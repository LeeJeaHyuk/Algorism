{
 "cells": [
  {
   "attachments": {},
   "cell_type": "markdown",
   "metadata": {},
   "source": [
    "보석 쪼개기"
   ]
  },
  {
   "cell_type": "code",
   "execution_count": 1,
   "metadata": {},
   "outputs": [],
   "source": [
    "from IPython.core.interactiveshell import InteractiveShell\n",
    "InteractiveShell.ast_node_interactivity = \"all\""
   ]
  },
  {
   "cell_type": "code",
   "execution_count": 2,
   "metadata": {},
   "outputs": [],
   "source": [
    "# [무게, 가격]\n",
    "# 최대 무게\n",
    "stuff = [[2,3],[3,4],[4,8],[5,8],[9,10]]\n",
    "w = 20"
   ]
  },
  {
   "cell_type": "code",
   "execution_count": 3,
   "metadata": {},
   "outputs": [
    {
     "name": "stdout",
     "output_type": "stream",
     "text": [
      "[1.5, 1.3333333333333333, 2.0, 1.6, 1.1111111111111112]\n"
     ]
    }
   ],
   "source": [
    "value = [y/x for x,y in stuff]\n",
    "print(value)"
   ]
  },
  {
   "cell_type": "code",
   "execution_count": 4,
   "metadata": {},
   "outputs": [
    {
     "name": "stdout",
     "output_type": "stream",
     "text": [
      "[1.5, 1.3333333333333333, 2.0, 1.6, 1.1111111111111112]\n"
     ]
    },
    {
     "data": {
      "text/plain": [
       "2"
      ]
     },
     "execution_count": 4,
     "metadata": {},
     "output_type": "execute_result"
    },
    {
     "data": {
      "text/plain": [
       "[1.5, 1.3333333333333333, 1.6, 1.1111111111111112]"
      ]
     },
     "execution_count": 4,
     "metadata": {},
     "output_type": "execute_result"
    }
   ],
   "source": [
    "# 무게 당 가격 가격/무게\n",
    "\n",
    "value = [y/x for x,y in stuff]\n",
    "print(value)\n",
    "\n",
    "value.index(max(value))\n",
    "del value[value.index(max(value))]\n",
    "value"
   ]
  },
  {
   "cell_type": "code",
   "execution_count": 5,
   "metadata": {},
   "outputs": [],
   "source": [
    "# 1 무게가 w를 넘지 않는 모든 경우의 수 구하기"
   ]
  },
  {
   "cell_type": "code",
   "execution_count": 6,
   "metadata": {},
   "outputs": [
    {
     "data": {
      "text/plain": [
       "2.0"
      ]
     },
     "execution_count": 6,
     "metadata": {},
     "output_type": "execute_result"
    },
    {
     "data": {
      "text/plain": [
       "[2]"
      ]
     },
     "execution_count": 6,
     "metadata": {},
     "output_type": "execute_result"
    },
    {
     "data": {
      "text/plain": [
       "4"
      ]
     },
     "execution_count": 6,
     "metadata": {},
     "output_type": "execute_result"
    }
   ],
   "source": [
    "stuff = [[2,3],[3,4],[4,8],[5,8],[9,10]]\n",
    "w = 20\n",
    "value = [y/x for x,y in stuff]\n",
    "max(value)\n",
    "[value.index(max(value))]\n",
    "stuff[value.index(max(value))][0]"
   ]
  },
  {
   "cell_type": "code",
   "execution_count": 7,
   "metadata": {},
   "outputs": [
    {
     "data": {
      "text/plain": [
       "[[2, 3], [3, 4], [4, 8], [5, 8], [9, 10]]"
      ]
     },
     "execution_count": 7,
     "metadata": {},
     "output_type": "execute_result"
    },
    {
     "data": {
      "text/plain": [
       "[[2, 3], [3, 4], [5, 8], [9, 10]]"
      ]
     },
     "execution_count": 7,
     "metadata": {},
     "output_type": "execute_result"
    }
   ],
   "source": [
    "stuff\n",
    "del stuff[value.index(max(value))]\n",
    "stuff"
   ]
  },
  {
   "cell_type": "code",
   "execution_count": 8,
   "metadata": {},
   "outputs": [
    {
     "data": {
      "text/plain": [
       "[1.5, 1.3333333333333333, 2.0, 1.6, 1.1111111111111112]"
      ]
     },
     "execution_count": 8,
     "metadata": {},
     "output_type": "execute_result"
    }
   ],
   "source": [
    "stuff = [[2,3],[3,4],[4,8],[5,8],[9,10]]\n",
    "w = 20\n",
    "\n",
    "value = [y/x for x,y in stuff]\n",
    "value"
   ]
  },
  {
   "cell_type": "code",
   "execution_count": 14,
   "metadata": {},
   "outputs": [],
   "source": [
    "stuff = [[2,3],[3,4],[4,8],[5,8],[9,10]]\n",
    "w = 20\n",
    "\n",
    "#1\n",
    "weight = min([x for x,y in stuff])\n",
    "price = [y for x,y in stuff if x==weight]\n",
    "\n",
    "#2\n",
    "weight = min([x for x,y in stuff])\n",
    "\n",
    "\n",
    "def function(stuff, w):\n",
    "    weight = min([x for x,y in stuff])\n",
    "    price = [y for x,y in stuff if x==weight]\n",
    "    print(f'{weight}{price}')\n",
    "    for i in range(10):\n",
    "        function(stuff, w)\n",
    "        \n",
    "    return weight, price"
   ]
  },
  {
   "cell_type": "code",
   "execution_count": 15,
   "metadata": {},
   "outputs": [
    {
     "ename": "",
     "evalue": "",
     "output_type": "error",
     "traceback": [
      "\u001b[1;31mCanceled future for execute_request message before replies were done"
     ]
    },
    {
     "ename": "",
     "evalue": "",
     "output_type": "error",
     "traceback": [
      "\u001b[1;31mThe Kernel crashed while executing code in the the current cell or a previous cell. Please review the code in the cell(s) to identify a possible cause of the failure. Click <a href='https://aka.ms/vscodeJupyterKernelCrash'>here</a> for more info. View Jupyter <a href='command:jupyter.viewOutput'>log</a> for further details."
     ]
    }
   ],
   "source": [
    "function(stuff, w)"
   ]
  },
  {
   "cell_type": "code",
   "execution_count": 158,
   "metadata": {},
   "outputs": [],
   "source": [
    "# 최대 가격 구하기\n",
    "def bag1(stuff, w):\n",
    "    \n",
    "    price = 0\n",
    "\n",
    "    while w > 0:\n",
    "        value = [y/x for x,y in stuff]\n",
    "\n",
    "        if w < min([x for x,y in stuff]):\n",
    "            return price\n",
    "\n",
    "        if w >= stuff[value.index(max(value))][0]:\n",
    "            w-= stuff[value.index(max(value))][0]\n",
    "            \n",
    "            price += stuff[value.index(max(value))][1]\n",
    "            del stuff[value.index(max(value))]\n",
    "            del value[value.index(max(value))]\n",
    "        else:\n",
    "            del value[value.index(max(value))]\n",
    "            \n",
    "    return price"
   ]
  },
  {
   "cell_type": "code",
   "execution_count": 159,
   "metadata": {},
   "outputs": [
    {
     "data": {
      "text/plain": [
       "23"
      ]
     },
     "execution_count": 159,
     "metadata": {},
     "output_type": "execute_result"
    }
   ],
   "source": [
    "stuff = [[2,3],[3,4],[4,8],[5,8],[9,10]]\n",
    "w = 20\n",
    "\n",
    "bag1(stuff, w)"
   ]
  },
  {
   "cell_type": "code",
   "execution_count": 128,
   "metadata": {},
   "outputs": [
    {
     "name": "stdout",
     "output_type": "stream",
     "text": [
      "(11, 2)\n"
     ]
    }
   ],
   "source": [
    "from collections import defaultdict\n",
    "\n",
    "def bag1(stuff, w):\n",
    "    weight_list = []\n",
    "    value_list = []\n",
    "    new_jewel = defaultdict(int)\n",
    "    max_value = defaultdict(int)\n",
    "    min_value = 0\n",
    "    for k in stuff:\n",
    "        weight_list.append(k[0])\n",
    "        value_list.append(k[1])\n",
    "    if w == weight_list[0]:\n",
    "        max_value[w] = value_list[0]\n",
    "        new_jewel[w] = weight_list[0]\n",
    "        return max_value[w]\n",
    "    else:\n",
    "        for i in range(value_list[0], w+1):\n",
    "            for k in [c for c in weight_list if c <= i]:\n",
    "                value = value_list[weight_list.index(k)] + max_value[i-k]\n",
    "                if value > min_value:\n",
    "                    min_value = value\n",
    "                    new_jewel[i] = k\n",
    "\n",
    "            max_value[i] = min_value\n",
    "\n",
    "        return max_value[w], new_jewel[w]\n",
    "\n",
    "stuff = [[2, 3], [3, 4], [4, 8], [5, 8], [9, 10]]\n",
    "print(bag1(stuff, 6))\n"
   ]
  },
  {
   "cell_type": "code",
   "execution_count": 137,
   "metadata": {},
   "outputs": [],
   "source": [
    "def dfs(graph, v, visited):\n",
    "    visited[v] = True\n",
    "    print(v, end=' ')\n",
    "    for i in graph[v]:\n",
    "        if not visited[i]:\n",
    "            dfs(graph, i, visited)"
   ]
  },
  {
   "cell_type": "code",
   "execution_count": 152,
   "metadata": {},
   "outputs": [
    {
     "data": {
      "text/plain": [
       "[[2, 3, 4, 5, 9],\n",
       " [2, 3, 4, 5, 9],\n",
       " [2, 3, 4, 5, 9],\n",
       " [2, 3, 4, 5, 9],\n",
       " [2, 3, 4, 5, 9],\n",
       " [2, 3, 4, 5, 9],\n",
       " [2, 3, 4, 5, 9],\n",
       " [2, 3, 4, 5, 9],\n",
       " [2, 3, 4, 5, 9],\n",
       " [2, 3, 4, 5, 9]]"
      ]
     },
     "execution_count": 152,
     "metadata": {},
     "output_type": "execute_result"
    }
   ],
   "source": [
    "stuff = [[2,3],[3,4],[4,8],[5,8],[9,10]]\n",
    "w = 20\n",
    "\n",
    "graph = [x for x,y in stuff]\n",
    "graph = [graph]*10\n",
    "graph\n",
    "visited = [False]*10"
   ]
  },
  {
   "cell_type": "code",
   "execution_count": 147,
   "metadata": {},
   "outputs": [
    {
     "name": "stdout",
     "output_type": "stream",
     "text": [
      "1 2 3 4 5 9 "
     ]
    }
   ],
   "source": [
    "dfs(graph,1,visited)"
   ]
  },
  {
   "cell_type": "code",
   "execution_count": null,
   "metadata": {},
   "outputs": [],
   "source": [
    "# 모든 경우의 수 계산\n",
    "def bag1(stuff, w):\n",
    "    \n",
    "    weight = [y for x,y in stuff]\n",
    "\n",
    "    price = 0\n",
    "    while w > 0:\n",
    "        # 무게가 가장 높은 것을 넣는다\n",
    "        if w >= max([y for x,y in stuff]):\n",
    "            w -= max([y for x,y in stuff])\n",
    "            price += stuff[value.index(max(value))][1]\n",
    "    \n",
    "            \n",
    "    return price"
   ]
  },
  {
   "cell_type": "code",
   "execution_count": 127,
   "metadata": {},
   "outputs": [
    {
     "data": {
      "text/plain": [
       "5"
      ]
     },
     "execution_count": 127,
     "metadata": {},
     "output_type": "execute_result"
    },
    {
     "name": "stdout",
     "output_type": "stream",
     "text": [
      "0 0\n",
      "bag : 3 price : 2\n",
      "0 1\n",
      "bag : 7 price : 5\n",
      "0 2\n",
      "bag : 15 price : 9\n",
      "0 3\n",
      "bag : 23 price : 14\n",
      "1 0\n",
      "bag : 4 price : 3\n",
      "1 1\n",
      "bag : 12 price : 7\n",
      "1 2\n",
      "bag : 20 price : 12\n",
      "2 0\n",
      "bag : 8 price : 4\n",
      "2 1\n",
      "bag : 16 price : 9\n",
      "2 2\n",
      "bag : 26 price : 18\n",
      "3 0\n",
      "bag : 8 price : 5\n",
      "3 1\n",
      "bag : 18 price : 14\n",
      "3 2\n",
      "bag : 21 price : 16\n",
      "4 0\n",
      "bag : 10 price : 9\n",
      "4 1\n",
      "bag : 13 price : 11\n",
      "4 2\n",
      "bag : 17 price : 14\n",
      "4 3\n",
      "bag : 25 price : 18\n",
      "max_price : 18\n"
     ]
    }
   ],
   "source": [
    "# 아예 랜덤\n",
    "\n",
    "stuff = [[2,3],[3,4],[4,8],[5,8],[9,10]]\n",
    "w = 20\n",
    "\n",
    "weight = [y for x,y in stuff]\n",
    "\n",
    "max_price = 0\n",
    "price = 0\n",
    "bag = 0\n",
    "\n",
    "len(stuff)\n",
    "\n",
    "for i in range(len(stuff)):\n",
    "    w = 20\n",
    "    price = 0\n",
    "    bag = 0\n",
    "    for j in range(len(stuff)):\n",
    "        if w > bag:\n",
    "            temp = i+j\n",
    "            if temp >=len(stuff):\n",
    "                temp -= len(stuff)\n",
    "\n",
    "            bag += stuff[temp][1]\n",
    "            price += stuff[temp][0]\n",
    "            print(i,j)\n",
    "            print(f'bag : {bag} price : {price}')\n",
    "        else:\n",
    "            if max_price < price:\n",
    "                max_price = price\n",
    "\n",
    "print(f'max_price : {max_price}')\n"
   ]
  },
  {
   "cell_type": "code",
   "execution_count": 125,
   "metadata": {},
   "outputs": [
    {
     "name": "stdout",
     "output_type": "stream",
     "text": [
      "\n",
      "i:0 j:0 temp0\n",
      "i:0 j:1 temp1\n",
      "i:0 j:2 temp2\n",
      "i:0 j:3 temp3\n",
      "i:0 j:4 temp4\n",
      "\n",
      "i:1 j:0 temp1\n",
      "i:1 j:1 temp2\n",
      "i:1 j:2 temp3\n",
      "i:1 j:3 temp4\n",
      "i:1 j:4 temp0\n",
      "\n",
      "i:2 j:0 temp2\n",
      "i:2 j:1 temp3\n",
      "i:2 j:2 temp4\n",
      "i:2 j:3 temp0\n",
      "i:2 j:4 temp1\n",
      "\n",
      "i:3 j:0 temp3\n",
      "i:3 j:1 temp4\n",
      "i:3 j:2 temp0\n",
      "i:3 j:3 temp1\n",
      "i:3 j:4 temp2\n",
      "\n",
      "i:4 j:0 temp4\n",
      "i:4 j:1 temp0\n",
      "i:4 j:2 temp1\n",
      "i:4 j:3 temp2\n",
      "i:4 j:4 temp3\n"
     ]
    }
   ],
   "source": [
    "for i in range(len(stuff)):\n",
    "    print()\n",
    "    for j in range(len(stuff)):\n",
    "        temp = i+j        \n",
    "        if temp >=len(stuff):\n",
    "            temp -= len(stuff)\n",
    "        print(f'i:{i} j:{j} temp{temp}')\n"
   ]
  },
  {
   "cell_type": "code",
   "execution_count": null,
   "metadata": {},
   "outputs": [],
   "source": [
    "stuff = [[2,3],[3,4],[4,8],[5,8],[9,10]]\n",
    "w = 20\n",
    "\n",
    "bag1(stuff, w)"
   ]
  }
 ],
 "metadata": {
  "kernelspec": {
   "display_name": "Python 3",
   "language": "python",
   "name": "python3"
  },
  "language_info": {
   "codemirror_mode": {
    "name": "ipython",
    "version": 3
   },
   "file_extension": ".py",
   "mimetype": "text/x-python",
   "name": "python",
   "nbconvert_exporter": "python",
   "pygments_lexer": "ipython3",
   "version": "3.10.9 (tags/v3.10.9:1dd9be6, Dec  6 2022, 20:01:21) [MSC v.1934 64 bit (AMD64)]"
  },
  "orig_nbformat": 4,
  "vscode": {
   "interpreter": {
    "hash": "d86e5f3e65a370f4f0c7c6c157476db0f2576129ce19971a1015c727da11cca3"
   }
  }
 },
 "nbformat": 4,
 "nbformat_minor": 2
}
