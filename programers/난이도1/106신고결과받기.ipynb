{
 "cells": [
  {
   "attachments": {},
   "cell_type": "markdown",
   "metadata": {},
   "source": [
    "### 문제 설명\n",
    "1. 신입사원 무지는 게시판 불량 이용자를 신고하고 처리 결과를 메일로 발송하는 시스템을 개발하려 합니다. \n",
    "2. 무지가 개발하려는 시스템은 다음과 같습니다.\n",
    "\n",
    "1. 각 유저는 한 번에 한 명의 유저를 신고할 수 있습니다.\n",
    "2. 신고 횟수에 제한은 없습니다. 서로 다른 유저를 계속해서 신고할 수 있습니다.\n",
    "3. 한 유저를 여러 번 신고할 수도 있지만, 동일한 유저에 대한 신고 횟수는 1회로 처리됩니다.\n",
    "4. k번 이상 신고된 유저는 게시판 이용이 정지되며, 해당 유저를 신고한 모든 유저에게 정지 사실을 메일로 발송합니다.\n",
    "5. 유저가 신고한 모든 내용을 취합하여 마지막에 한꺼번에 게시판 이용 정지를 시키면서 정지 메일을 발송합니다."
   ]
  },
  {
   "attachments": {},
   "cell_type": "markdown",
   "metadata": {},
   "source": [
    "### 제한사항\n",
    "- 2 ≤ id_list의 길이 ≤ 1,000\n",
    "-  1 ≤ id_list의 원소 길이 ≤ 10\n",
    "-  id_list의 원소는 이용자의 id를 나타내는 문자열이며 알파벳 소문자로만 이루어져 있습니다.\n",
    "-  id_list에는 같은 아이디가 중복해서 들어있지 않습니다.\n",
    "-  1 ≤ report의 길이 ≤ 200,000\n",
    "-  3 ≤ report의 원소 길이 ≤ 21\n",
    "-  report의 원소는 \"이용자id 신고한id\"형태의 문자열입니다. 예를 들어 \"muzi frodo\"의 경우 \"muzi\"가 \"frodo\"를 신고했다는 의미입니다.\n",
    "-  id는 알파벳 소문자로만 이루어져 있습니다.\n",
    "-  이용자id와 신고한id는 공백(스페이스)하나로 구분되어 있습니다.\n",
    "-  자기 자신을 신고하는 경우는 없습니다.\n",
    "-  1 ≤ k ≤ 200, k는 자연수입니다.\n",
    "-  return 하는 배열은 id_list에 담긴 id 순서대로 각 유저가 받은 결과 메일 수를 담으면 됩니다."
   ]
  },
  {
   "attachments": {},
   "cell_type": "markdown",
   "metadata": {},
   "source": [
    "### 신고\n",
    "- 처음은 세야함\n",
    "- 핵심은 중복을 막는 것으로 생각된다.\n",
    "- 중복 확인을 어떻게 할 것인가?\n",
    "    1. 신고 사전을 만들어서 신고 사전에 존재하면 count되지 않도록\n",
    "        - 천 신고시 신고 사전에 들어간다\n",
    "        - 신고 할 때마자 신고 사전을 참고한다\n",
    "        - 사전으로는 불가능하다(동일인이 2개 신고 가능하므로)\n",
    "            - key값이 중복될 수 없다\n",
    "    2. list사용\n",
    "        - 이중 리스트로 만들어서 활용\n",
    "        \n",
    "1. 처음은 무조건 세야 한다\n",
    "2. 이미 존재하면 reported 값이 동일한지 세야 한다\n",
    "    - reported 값이 동일하지 않으면 추가해야 한다\n",
    "    - reported 값이 동일하면 세지 말아햐 한다"
   ]
  },
  {
   "cell_type": "code",
   "execution_count": 15,
   "metadata": {},
   "outputs": [],
   "source": [
    "from IPython.core.interactiveshell import InteractiveShell\n",
    "InteractiveShell.ast_node_interactivity = \"all\""
   ]
  },
  {
   "cell_type": "code",
   "execution_count": 2,
   "metadata": {},
   "outputs": [],
   "source": [
    "id_list = [\"muzi\", \"frodo\", \"apeach\", \"neo\"]\n",
    "report = [\"muzi frodo\",\"apeach muzi\",\"frodo neo\",\"muzi neo\",\"apeach muzi\"]\n",
    "k = 2\n",
    "# result = [2,1,1,0]\n",
    "\n",
    "id_list1 = [\"con\", \"ryan\"]\n",
    "report1 = [\"ryan con\", \"ryan con\", \"ryan con\", \"ryan con\"]\n",
    "k1 = 3\n",
    "# result1 = [0,0]"
   ]
  },
  {
   "cell_type": "code",
   "execution_count": 6,
   "metadata": {},
   "outputs": [
    {
     "data": {
      "text/plain": [
       "['apeach muzi', 'frodo neo', 'muzi frodo', 'muzi neo']"
      ]
     },
     "execution_count": 6,
     "metadata": {},
     "output_type": "execute_result"
    }
   ],
   "source": [
    "report = set(report)\n",
    "report = list(report)\n",
    "report"
   ]
  },
  {
   "attachments": {},
   "cell_type": "markdown",
   "metadata": {},
   "source": [
    "### 이중 리스트로 만들기"
   ]
  },
  {
   "cell_type": "code",
   "execution_count": 9,
   "metadata": {},
   "outputs": [],
   "source": [
    "def reportToDict(report):\n",
    "    report_dict = []\n",
    "    reporting = []\n",
    "    reported = []\n",
    "    \n",
    "    for i in range(len(report)):\n",
    "\n",
    "        temp_list = []\n",
    "\n",
    "        reporting.append(report[i].split()[0])\n",
    "        reported.append(report[i].split()[1])\n",
    "        \n",
    "        temp_list.append(reporting[i])\n",
    "        temp_list.append(reported[i])\n",
    "        report_dict.append(temp_list)\n",
    "    \n",
    "    return report_dict"
   ]
  },
  {
   "cell_type": "code",
   "execution_count": 10,
   "metadata": {},
   "outputs": [],
   "source": [
    "report_dict = reportToDict(report)"
   ]
  },
  {
   "attachments": {},
   "cell_type": "markdown",
   "metadata": {},
   "source": [
    "### 이중 리스트에서 중복 모두 지우기"
   ]
  },
  {
   "cell_type": "code",
   "execution_count": 11,
   "metadata": {},
   "outputs": [],
   "source": [
    "def get_unique_list(seq):\n",
    "    seen = []\n",
    "    return [x for x in seq if x not in seen and not seen.append(x)]"
   ]
  },
  {
   "cell_type": "code",
   "execution_count": 16,
   "metadata": {},
   "outputs": [
    {
     "data": {
      "text/plain": [
       "[['apeach', 'muzi'], ['frodo', 'neo'], ['muzi', 'frodo'], ['muzi', 'neo']]"
      ]
     },
     "execution_count": 16,
     "metadata": {},
     "output_type": "execute_result"
    }
   ],
   "source": [
    "report_dict = get_unique_list(report_dict)\n",
    "report_dict"
   ]
  },
  {
   "attachments": {},
   "cell_type": "markdown",
   "metadata": {},
   "source": [
    "### 아이디가 정지된 사람만 dict로 반환"
   ]
  },
  {
   "cell_type": "code",
   "execution_count": 13,
   "metadata": {},
   "outputs": [],
   "source": [
    "# 정지된 사람인지 확인\n",
    "import collections\n",
    "\n",
    "def report_count(report_dict, k):\n",
    "\n",
    "    reported_dict = collections.Counter([y for x,y in report_dict])\n",
    "    report_dict_count = {key:value for key , value in reported_dict.items() if value >= k}\n",
    "    \n",
    "    return report_dict_count"
   ]
  },
  {
   "cell_type": "code",
   "execution_count": 17,
   "metadata": {},
   "outputs": [
    {
     "data": {
      "text/plain": [
       "['muzi', 'neo', 'frodo', 'neo']"
      ]
     },
     "execution_count": 17,
     "metadata": {},
     "output_type": "execute_result"
    },
    {
     "data": {
      "text/plain": [
       "{'neo': 2}"
      ]
     },
     "execution_count": 17,
     "metadata": {},
     "output_type": "execute_result"
    },
    {
     "data": {
      "text/plain": [
       "['neo']"
      ]
     },
     "execution_count": 17,
     "metadata": {},
     "output_type": "execute_result"
    }
   ],
   "source": [
    "[y for x,y in report_dict]\n",
    "report_dict_count = report_count(report_dict, k)\n",
    "report_dict_count\n",
    "reported_list =  list(report_dict_count.keys())\n",
    "reported_list"
   ]
  },
  {
   "cell_type": "code",
   "execution_count": 20,
   "metadata": {},
   "outputs": [
    {
     "data": {
      "text/plain": [
       "['neo']"
      ]
     },
     "execution_count": 20,
     "metadata": {},
     "output_type": "execute_result"
    },
    {
     "data": {
      "text/plain": [
       "[['apeach', 'muzi'], ['frodo', 'neo'], ['muzi', 'frodo'], ['muzi', 'neo']]"
      ]
     },
     "execution_count": 20,
     "metadata": {},
     "output_type": "execute_result"
    },
    {
     "data": {
      "text/plain": [
       "['apeach', 'frodo', 'muzi', 'muzi']"
      ]
     },
     "execution_count": 20,
     "metadata": {},
     "output_type": "execute_result"
    }
   ],
   "source": [
    "reported_list\n",
    "report_dict\n",
    "[x for x,y in report_dict ]"
   ]
  },
  {
   "attachments": {},
   "cell_type": "markdown",
   "metadata": {},
   "source": [
    "### 신고한 사람에게 메일 보내기"
   ]
  },
  {
   "cell_type": "code",
   "execution_count": 27,
   "metadata": {},
   "outputs": [
    {
     "data": {
      "text/plain": [
       "{'muzi': 0, 'frodo': 0, 'apeach': 0, 'neo': 0}"
      ]
     },
     "execution_count": 27,
     "metadata": {},
     "output_type": "execute_result"
    }
   ],
   "source": [
    "id_report = [0 for i in range(len(id_list))]\n",
    "mail_dict_ = dict(zip(id_list,id_report))\n",
    "mail_dict_"
   ]
  },
  {
   "cell_type": "code",
   "execution_count": 21,
   "metadata": {},
   "outputs": [],
   "source": [
    "def mailing_list(mail_dict, report_dict, report_dict_count):\n",
    "\n",
    "    mail_list1 =[]\n",
    "    reported = list(report_dict_count.keys())\n",
    "    for i in range(len(reported)):\n",
    "        mail_list1.append([x for x,y in report_dict if y==reported[i]]) \n",
    "        \n",
    "    mail_list1 = sum(mail_list1, [])\n",
    "    mail_list_dict = dict(collections.Counter(mail_list1))\n",
    "    mail_dict.update(mail_list_dict)\n",
    "\n",
    "    result = list(mail_dict.values())\n",
    "    \n",
    "    return result "
   ]
  },
  {
   "cell_type": "code",
   "execution_count": 22,
   "metadata": {},
   "outputs": [
    {
     "ename": "NameError",
     "evalue": "name 'mail_dict_' is not defined",
     "output_type": "error",
     "traceback": [
      "\u001b[1;31m---------------------------------------------------------------------------\u001b[0m",
      "\u001b[1;31mNameError\u001b[0m                                 Traceback (most recent call last)",
      "\u001b[1;32m~\\AppData\\Local\\Temp\\ipykernel_9148\\2698177181.py\u001b[0m in \u001b[0;36m<cell line: 1>\u001b[1;34m()\u001b[0m\n\u001b[1;32m----> 1\u001b[1;33m \u001b[0mmailing_list\u001b[0m\u001b[1;33m(\u001b[0m\u001b[0mmail_dict_\u001b[0m\u001b[1;33m,\u001b[0m \u001b[0mreport_dict\u001b[0m\u001b[1;33m,\u001b[0m \u001b[0mreport_dict_count\u001b[0m\u001b[1;33m)\u001b[0m\u001b[1;33m\u001b[0m\u001b[1;33m\u001b[0m\u001b[0m\n\u001b[0m",
      "\u001b[1;31mNameError\u001b[0m: name 'mail_dict_' is not defined"
     ]
    }
   ],
   "source": [
    "mailing_list(mail_dict_, report_dict, report_dict_count)"
   ]
  },
  {
   "cell_type": "code",
   "execution_count": 120,
   "metadata": {},
   "outputs": [],
   "source": [
    "id_list = [\"muzi\", \"frodo\", \"apeach\", \"neo\"]\n",
    "report = [\"muzi frodo\",\"apeach muzi\",\"frodo neo\",\"muzi neo\",\"apeach muzi\"]"
   ]
  },
  {
   "cell_type": "code",
   "execution_count": 121,
   "metadata": {},
   "outputs": [
    {
     "data": {
      "text/plain": [
       "{'muzi': 0, 'frodo': 0, 'apeach': 0, 'neo': 0}"
      ]
     },
     "execution_count": 121,
     "metadata": {},
     "output_type": "execute_result"
    }
   ],
   "source": [
    "id_report = [0 for i in range(len(id_list))]\n",
    "mail_dict_ = dict(zip(id_list,id_report))\n",
    "mail_dict_"
   ]
  },
  {
   "cell_type": "code",
   "execution_count": 24,
   "metadata": {},
   "outputs": [],
   "source": [
    "def solution(id_list, report, k):\n",
    "    id_report = [0 for i in range(len(id_list))]\n",
    "    mail_dict_ = dict(zip(id_list,id_report))\n",
    "\n",
    "    report_dict = reportToDict(report)\n",
    "    report_dict = get_unique_list(report_dict)\n",
    "    report_dict_count = report_count(report_dict, k)\n",
    "    mail_list = mailing_list(mail_dict_, report_dict, report_dict_count)\n",
    "    return mail_list"
   ]
  },
  {
   "cell_type": "code",
   "execution_count": 94,
   "metadata": {},
   "outputs": [
    {
     "data": {
      "text/plain": [
       "[1, 1, 0, 0]"
      ]
     },
     "execution_count": 94,
     "metadata": {},
     "output_type": "execute_result"
    }
   ],
   "source": [
    "solution(id_list, report, k)"
   ]
  },
  {
   "attachments": {},
   "cell_type": "markdown",
   "metadata": {},
   "source": [
    "출처: 프로그래머스 코딩 테스트 연습, https://school.programmers.co.kr/learn/courses/30/lessons/92334"
   ]
  },
  {
   "attachments": {},
   "cell_type": "markdown",
   "metadata": {},
   "source": [
    "시간 초과 -> 접수되면 제거되도록?"
   ]
  }
 ],
 "metadata": {
  "kernelspec": {
   "display_name": "Python 3",
   "language": "python",
   "name": "python3"
  },
  "language_info": {
   "codemirror_mode": {
    "name": "ipython",
    "version": 3
   },
   "file_extension": ".py",
   "mimetype": "text/x-python",
   "name": "python",
   "nbconvert_exporter": "python",
   "pygments_lexer": "ipython3",
   "version": "3.10.9"
  },
  "orig_nbformat": 4,
  "vscode": {
   "interpreter": {
    "hash": "d86e5f3e65a370f4f0c7c6c157476db0f2576129ce19971a1015c727da11cca3"
   }
  }
 },
 "nbformat": 4,
 "nbformat_minor": 2
}
