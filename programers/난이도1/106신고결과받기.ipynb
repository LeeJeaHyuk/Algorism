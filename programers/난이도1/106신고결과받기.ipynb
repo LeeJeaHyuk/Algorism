{
 "cells": [
  {
   "attachments": {},
   "cell_type": "markdown",
   "metadata": {},
   "source": [
    "### 문제 설명\n",
    "1. 신입사원 무지는 게시판 불량 이용자를 신고하고 처리 결과를 메일로 발송하는 시스템을 개발하려 합니다. \n",
    "2. 무지가 개발하려는 시스템은 다음과 같습니다.\n",
    "\n",
    "1. 각 유저는 한 번에 한 명의 유저를 신고할 수 있습니다.\n",
    "2. 신고 횟수에 제한은 없습니다. 서로 다른 유저를 계속해서 신고할 수 있습니다.\n",
    "3. 한 유저를 여러 번 신고할 수도 있지만, 동일한 유저에 대한 신고 횟수는 1회로 처리됩니다.\n",
    "4. k번 이상 신고된 유저는 게시판 이용이 정지되며, 해당 유저를 신고한 모든 유저에게 정지 사실을 메일로 발송합니다.\n",
    "5. 유저가 신고한 모든 내용을 취합하여 마지막에 한꺼번에 게시판 이용 정지를 시키면서 정지 메일을 발송합니다."
   ]
  },
  {
   "attachments": {},
   "cell_type": "markdown",
   "metadata": {},
   "source": [
    "### 제한사항\n",
    "- 2 ≤ id_list의 길이 ≤ 1,000\n",
    "-  1 ≤ id_list의 원소 길이 ≤ 10\n",
    "-  id_list의 원소는 이용자의 id를 나타내는 문자열이며 알파벳 소문자로만 이루어져 있습니다.\n",
    "-  id_list에는 같은 아이디가 중복해서 들어있지 않습니다.\n",
    "-  1 ≤ report의 길이 ≤ 200,000\n",
    "-  3 ≤ report의 원소 길이 ≤ 21\n",
    "-  report의 원소는 \"이용자id 신고한id\"형태의 문자열입니다. 예를 들어 \"muzi frodo\"의 경우 \"muzi\"가 \"frodo\"를 신고했다는 의미입니다.\n",
    "-  id는 알파벳 소문자로만 이루어져 있습니다.\n",
    "-  이용자id와 신고한id는 공백(스페이스)하나로 구분되어 있습니다.\n",
    "-  자기 자신을 신고하는 경우는 없습니다.\n",
    "-  1 ≤ k ≤ 200, k는 자연수입니다.\n",
    "-  return 하는 배열은 id_list에 담긴 id 순서대로 각 유저가 받은 결과 메일 수를 담으면 됩니다."
   ]
  },
  {
   "cell_type": "code",
   "execution_count": 11,
   "metadata": {},
   "outputs": [],
   "source": [
    "from IPython.core.interactiveshell import InteractiveShell\n",
    "InteractiveShell.ast_node_interactivity = \"all\""
   ]
  },
  {
   "cell_type": "code",
   "execution_count": 185,
   "metadata": {},
   "outputs": [],
   "source": [
    "id_list = [\"muzi\", \"frodo\", \"apeach\", \"neo\"]\n",
    "report = [\"muzi frodo\",\"apeach muzi\",\"frodo neo\",\"muzi neo\",\"apeach muzi\"]\n",
    "k = 2\n",
    "# result = [2,1,1,0]\n",
    "\n",
    "id_list1 = [\"con\", \"ryan\"]\n",
    "report1 = [\"ryan con\", \"ryan con\", \"ryan con\", \"ryan con\"]\n",
    "k1 = 3\n",
    "# result1 = [0,0]"
   ]
  },
  {
   "attachments": {},
   "cell_type": "markdown",
   "metadata": {},
   "source": [
    "### 신고\n",
    "- 처음은 세야함\n",
    "- 핵심은 중복을 막는 것으로 생각된다.\n",
    "- 중복 확인을 어떻게 할 것인가?\n",
    "    1. 신고 사전을 만들어서 신고 사전에 존재하면 count되지 않도록\n",
    "        - 천 신고시 신고 사전에 들어간다\n",
    "        - 신고 할 때마자 신고 사전을 참고한다\n",
    "        - 사전으로는 불가능하다(동일인이 2개 신고 가능하므로)\n",
    "            - key값이 중복될 수 없다\n",
    "    2. list사용\n",
    "        - 이중 리스트로 만들어서 활용\n",
    "        \n",
    "1. 처음은 무조건 세야 한다\n",
    "2. 이미 존재하면 reported 값이 동일한지 세야 한다\n",
    "    - reported 값이 동일하지 않으면 추가해야 한다\n",
    "    - reported 값이 동일하면 세지 말아햐 한다"
   ]
  },
  {
   "cell_type": "code",
   "execution_count": 202,
   "metadata": {},
   "outputs": [],
   "source": [
    "def reportToDict(report):\n",
    "    report_dict = []\n",
    "    reporting = []\n",
    "    reported = []\n",
    "    \n",
    "    for i in range(len(report)):\n",
    "\n",
    "        temp_list = []\n",
    "\n",
    "        reporting.append(report[i].split()[0])\n",
    "        reported.append(report[i].split()[1])\n",
    "        \n",
    "        temp_list.append(reporting[i])\n",
    "        temp_list.append(reported[i])\n",
    "        report_dict.append(temp_list)\n",
    "    \n",
    "    return report_dict"
   ]
  },
  {
   "cell_type": "code",
   "execution_count": 211,
   "metadata": {},
   "outputs": [],
   "source": [
    "list = reportToDict(report)"
   ]
  },
  {
   "attachments": {},
   "cell_type": "markdown",
   "metadata": {},
   "source": [
    "## 이중 리스트에서 중복 모두 지우기"
   ]
  },
  {
   "cell_type": "code",
   "execution_count": 214,
   "metadata": {},
   "outputs": [],
   "source": [
    "def get_unique_list(seq):\n",
    "    seen = []\n",
    "    return [x for x in seq if x not in seen and not seen.append(x)]"
   ]
  },
  {
   "cell_type": "code",
   "execution_count": 219,
   "metadata": {},
   "outputs": [
    {
     "data": {
      "text/plain": [
       "True"
      ]
     },
     "execution_count": 219,
     "metadata": {},
     "output_type": "execute_result"
    }
   ],
   "source": [
    "list not in seen and not seen.append(list)\n",
    "# 없을 때만 추가해라"
   ]
  },
  {
   "cell_type": "code",
   "execution_count": 217,
   "metadata": {},
   "outputs": [
    {
     "name": "stdout",
     "output_type": "stream",
     "text": [
      "0\n",
      "1\n",
      "2\n",
      "3\n",
      "4\n",
      "5\n",
      "6\n",
      "7\n",
      "8\n",
      "9\n"
     ]
    },
    {
     "data": {
      "text/plain": [
       "[None, None, None, None, None, None, None, None, None, None]"
      ]
     },
     "execution_count": 217,
     "metadata": {},
     "output_type": "execute_result"
    }
   ],
   "source": [
    "[print(x) for x in [0, 1, 2, 3, 4, 5, 6, 7, 8, 9]]"
   ]
  },
  {
   "cell_type": "code",
   "execution_count": 216,
   "metadata": {},
   "outputs": [
    {
     "data": {
      "text/plain": [
       "[['muzi', 'frodo'],\n",
       " ['apeach', 'muzi'],\n",
       " ['frodo', 'neo'],\n",
       " ['muzi', 'neo'],\n",
       " ['apeach', 'muzi']]"
      ]
     },
     "execution_count": 216,
     "metadata": {},
     "output_type": "execute_result"
    },
    {
     "data": {
      "text/plain": [
       "[['muzi', 'frodo'],\n",
       " ['apeach', 'muzi'],\n",
       " ['frodo', 'neo'],\n",
       " ['muzi', 'neo'],\n",
       " ['apeach', 'muzi']]"
      ]
     },
     "execution_count": 216,
     "metadata": {},
     "output_type": "execute_result"
    }
   ],
   "source": [
    "list \n",
    "seen = []\n",
    "[x for x in list]"
   ]
  },
  {
   "cell_type": "code",
   "execution_count": null,
   "metadata": {},
   "outputs": [],
   "source": [
    "[x for x in seq if x not in seen and not seen.append(x)]"
   ]
  },
  {
   "cell_type": "code",
   "execution_count": 215,
   "metadata": {},
   "outputs": [
    {
     "data": {
      "text/plain": [
       "[['muzi', 'frodo'], ['apeach', 'muzi'], ['frodo', 'neo'], ['muzi', 'neo']]"
      ]
     },
     "execution_count": 215,
     "metadata": {},
     "output_type": "execute_result"
    }
   ],
   "source": [
    "get_unique_list(list)"
   ]
  },
  {
   "cell_type": "code",
   "execution_count": 204,
   "metadata": {},
   "outputs": [],
   "source": [
    "def duplication_drop(report_dict):\n",
    "    while \n",
    "        if report_dict.count(report_dict[i]) >= 2:\n",
    "           report_dict.remove(report_dict[i])\n",
    "    return report_dict"
   ]
  },
  {
   "cell_type": "code",
   "execution_count": null,
   "metadata": {},
   "outputs": [],
   "source": []
  },
  {
   "cell_type": "code",
   "execution_count": 205,
   "metadata": {},
   "outputs": [],
   "source": [
    "def report_count(id_list, id_report, report_dict, k):\n",
    "    for i in range(len(report_dict)):\n",
    "        for j in range(len(id_list)):\n",
    "            if report_dict[i][1] == id_list[j]:\n",
    "                id_report[j] += 1\n",
    "\n",
    "    for i in range(len(id_report)):\n",
    "        if id_report[i] < k:\n",
    "           id_report[i] = 0\n",
    "        else:\n",
    "            id_report[i] =1\n",
    "    return id_report"
   ]
  },
  {
   "cell_type": "code",
   "execution_count": 206,
   "metadata": {},
   "outputs": [
    {
     "data": {
      "text/plain": [
       "['muzi', 'frodo', 'apeach', 'neo']"
      ]
     },
     "execution_count": 206,
     "metadata": {},
     "output_type": "execute_result"
    },
    {
     "data": {
      "text/plain": [
       "2"
      ]
     },
     "execution_count": 206,
     "metadata": {},
     "output_type": "execute_result"
    },
    {
     "data": {
      "text/plain": [
       "[0, 0, 0, 1]"
      ]
     },
     "execution_count": 206,
     "metadata": {},
     "output_type": "execute_result"
    }
   ],
   "source": [
    "report_dict =  [['muzi', 'frodo'], ['frodo', 'neo'], ['muzi', 'neo'], ['apeach', 'muzi']]\n",
    "id_report = [0, 0, 0, 0]\n",
    "id_list\n",
    "k\n",
    "report_count(id_list, id_report, report_dict, k)"
   ]
  },
  {
   "cell_type": "code",
   "execution_count": 207,
   "metadata": {},
   "outputs": [],
   "source": [
    "def mailing_list(id_list, id_report, report_dict):\n",
    "    \n",
    "    mail_list = [0 for i in range(len(id_list))]\n",
    "\n",
    "    for i in range(len(id_report)):\n",
    "        if id_report[i] == 1:\n",
    "            for j in range(len(report_dict)):\n",
    "                if id_list[i] == report_dict[j][1]:\n",
    "                    for k in range(len(mail_list)):\n",
    "                        if report_dict[j][0] == id_list[k]:\n",
    "                            mail_list[k] +=1\n",
    "    return mail_list "
   ]
  },
  {
   "cell_type": "code",
   "execution_count": 208,
   "metadata": {},
   "outputs": [
    {
     "data": {
      "text/plain": [
       "[1, 1, 0, 0]"
      ]
     },
     "execution_count": 208,
     "metadata": {},
     "output_type": "execute_result"
    }
   ],
   "source": [
    "report_dict =  [['muzi', 'frodo'], ['frodo', 'neo'], ['muzi', 'neo'], ['apeach', 'muzi']]\n",
    "id_report = [0, 0, 0, 1]\n",
    "mailing_list(id_list, id_report, report_dict)"
   ]
  },
  {
   "cell_type": "code",
   "execution_count": 209,
   "metadata": {},
   "outputs": [],
   "source": [
    "def solution(id_list, report, k):\n",
    "    id_report = [0 for i in range(len(id_list))]\n",
    "    mail_list = [0 for i in range(len(id_list))]\n",
    "\n",
    "    report_dict = reportToDict(report)\n",
    "    report_dict = duplication_drop(report_dict)\n",
    "    id_report = report_count(id_list, id_report, report_dict, k)\n",
    "    mail_list = mailing_list(id_list, id_report, report_dict)\n",
    "    return mail_list"
   ]
  },
  {
   "cell_type": "code",
   "execution_count": 210,
   "metadata": {},
   "outputs": [
    {
     "data": {
      "text/plain": [
       "[1, 1, 0, 0]"
      ]
     },
     "execution_count": 210,
     "metadata": {},
     "output_type": "execute_result"
    }
   ],
   "source": [
    "solution(id_list, report, k)"
   ]
  },
  {
   "cell_type": "code",
   "execution_count": 159,
   "metadata": {},
   "outputs": [
    {
     "data": {
      "text/plain": [
       "['muzi', 'frodo', 'apeach', 'neo']"
      ]
     },
     "execution_count": 159,
     "metadata": {},
     "output_type": "execute_result"
    },
    {
     "data": {
      "text/plain": [
       "[0, 0, 0, 1]"
      ]
     },
     "execution_count": 159,
     "metadata": {},
     "output_type": "execute_result"
    },
    {
     "data": {
      "text/plain": [
       "[['muzi', 'frodo'], ['frodo', 'neo'], ['muzi', 'neo'], ['apeach', 'muzi']]"
      ]
     },
     "execution_count": 159,
     "metadata": {},
     "output_type": "execute_result"
    },
    {
     "name": "stdout",
     "output_type": "stream",
     "text": [
      "[1, 1, 0, 0]\n"
     ]
    }
   ],
   "source": [
    "id_list\n",
    "정지_리스트 #  id_report\n",
    "리포트_명단 #   report_dict\n",
    "list = [0 for i in range(len(id_list))]\n",
    "\n",
    "# 정지 리스트가 1인 경우\n",
    "for i in range(len(정지_리스트)):\n",
    "    if 정지_리스트[i] == 1:\n",
    "        for j in range(len(리포트_명단)):\n",
    "            # 정지당한 사람을 신고한 사람을 찾기 \n",
    "            if id_list[i] == 리포트_명단[j][1]:\n",
    "                # 신고한 사람 리포트_명단[j][0]\n",
    "                for k in range(len(list)):\n",
    "                    if 리포트_명단[j][0] == id_list[k]:\n",
    "                        list[k] +=1\n",
    "                \n",
    "                \n",
    "# for i in range(len(리포트_명단)):\n",
    "#     for j in range(len(정지_리스트)):\n",
    "#         if 정지_리스트[j] == 리포트_명단[i][1]:\n",
    "#             list[j] += 1\n",
    "print(list)"
   ]
  },
  {
   "cell_type": "code",
   "execution_count": 99,
   "metadata": {},
   "outputs": [
    {
     "data": {
      "text/plain": [
       "[0, 0, 0, 0]"
      ]
     },
     "execution_count": 99,
     "metadata": {},
     "output_type": "execute_result"
    },
    {
     "data": {
      "text/plain": [
       "[['muzi', 'frodo'],\n",
       " ['apeach', 'muzi'],\n",
       " ['frodo', 'neo'],\n",
       " ['muzi', 'neo'],\n",
       " ['apeach', 'muzi']]"
      ]
     },
     "execution_count": 99,
     "metadata": {},
     "output_type": "execute_result"
    },
    {
     "name": "stdout",
     "output_type": "stream",
     "text": [
      "['muzi', 'apeach', 'frodo', 'muzi', 'apeach']\n",
      "['frodo', 'muzi', 'neo', 'neo', 'muzi']\n",
      "[['muzi', 'frodo'], ['apeach', 'muzi'], ['frodo', 'neo'], ['muzi', 'neo'], ['apeach', 'muzi']]\n"
     ]
    }
   ],
   "source": [
    "id_report = [0 for i in range(len(id_list))]\n",
    "id_report\n",
    "reporting = []\n",
    "reported = []\n",
    "\n",
    "report_dict = []\n",
    "\n",
    "for i in range(len(report)):\n",
    "    temp_list = []\n",
    "    reporting.append(report[i].split()[0])\n",
    "    reported.append(report[i].split()[1])\n",
    "    \n",
    "    temp_list.append(reporting[i])\n",
    "    temp_list.append(reported[i])\n",
    "    report_dict.append(temp_list)\n",
    "\n",
    "\n",
    "duplication_drop(report_dict)\n",
    "report_count(id_list, id_report, report_dict)\n",
    "\n",
    "print(reporting)\n",
    "print(reported)\n",
    "print(report_dict)\n"
   ]
  },
  {
   "attachments": {},
   "cell_type": "markdown",
   "metadata": {},
   "source": [
    "출처: 프로그래머스 코딩 테스트 연습, https://school.programmers.co.kr/learn/courses/30/lessons/92334"
   ]
  }
 ],
 "metadata": {
  "kernelspec": {
   "display_name": "Python 3",
   "language": "python",
   "name": "python3"
  },
  "language_info": {
   "codemirror_mode": {
    "name": "ipython",
    "version": 3
   },
   "file_extension": ".py",
   "mimetype": "text/x-python",
   "name": "python",
   "nbconvert_exporter": "python",
   "pygments_lexer": "ipython3",
   "version": "3.10.9"
  },
  "orig_nbformat": 4,
  "vscode": {
   "interpreter": {
    "hash": "d86e5f3e65a370f4f0c7c6c157476db0f2576129ce19971a1015c727da11cca3"
   }
  }
 },
 "nbformat": 4,
 "nbformat_minor": 2
}
