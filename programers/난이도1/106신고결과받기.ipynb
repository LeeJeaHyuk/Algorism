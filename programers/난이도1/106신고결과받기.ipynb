{
 "cells": [
  {
   "attachments": {},
   "cell_type": "markdown",
   "metadata": {},
   "source": [
    "### 문제 설명\n",
    "1. 신입사원 무지는 게시판 불량 이용자를 신고하고 처리 결과를 메일로 발송하는 시스템을 개발하려 합니다. \n",
    "2. 무지가 개발하려는 시스템은 다음과 같습니다.\n",
    "\n",
    "1. 각 유저는 한 번에 한 명의 유저를 신고할 수 있습니다.\n",
    "2. 신고 횟수에 제한은 없습니다. 서로 다른 유저를 계속해서 신고할 수 있습니다.\n",
    "3. 한 유저를 여러 번 신고할 수도 있지만, 동일한 유저에 대한 신고 횟수는 1회로 처리됩니다.\n",
    "4. k번 이상 신고된 유저는 게시판 이용이 정지되며, 해당 유저를 신고한 모든 유저에게 정지 사실을 메일로 발송합니다.\n",
    "5. 유저가 신고한 모든 내용을 취합하여 마지막에 한꺼번에 게시판 이용 정지를 시키면서 정지 메일을 발송합니다."
   ]
  },
  {
   "attachments": {},
   "cell_type": "markdown",
   "metadata": {},
   "source": [
    "### 제한사항\n",
    "- 2 ≤ id_list의 길이 ≤ 1,000\n",
    "-  1 ≤ id_list의 원소 길이 ≤ 10\n",
    "-  id_list의 원소는 이용자의 id를 나타내는 문자열이며 알파벳 소문자로만 이루어져 있습니다.\n",
    "-  id_list에는 같은 아이디가 중복해서 들어있지 않습니다.\n",
    "-  1 ≤ report의 길이 ≤ 200,000\n",
    "-  3 ≤ report의 원소 길이 ≤ 21\n",
    "-  report의 원소는 \"이용자id 신고한id\"형태의 문자열입니다. 예를 들어 \"muzi frodo\"의 경우 \"muzi\"가 \"frodo\"를 신고했다는 의미입니다.\n",
    "-  id는 알파벳 소문자로만 이루어져 있습니다.\n",
    "-  이용자id와 신고한id는 공백(스페이스)하나로 구분되어 있습니다.\n",
    "-  자기 자신을 신고하는 경우는 없습니다.\n",
    "-  1 ≤ k ≤ 200, k는 자연수입니다.\n",
    "-  return 하는 배열은 id_list에 담긴 id 순서대로 각 유저가 받은 결과 메일 수를 담으면 됩니다."
   ]
  },
  {
   "attachments": {},
   "cell_type": "markdown",
   "metadata": {},
   "source": [
    "### 신고\n",
    "- 처음은 세야함\n",
    "- 핵심은 중복을 막는 것으로 생각된다.\n",
    "- 중복 확인을 어떻게 할 것인가?\n",
    "    1. 신고 사전을 만들어서 신고 사전에 존재하면 count되지 않도록\n",
    "        - 천 신고시 신고 사전에 들어간다\n",
    "        - 신고 할 때마자 신고 사전을 참고한다\n",
    "        - 사전으로는 불가능하다(동일인이 2개 신고 가능하므로)\n",
    "            - key값이 중복될 수 없다\n",
    "    2. list사용\n",
    "        - 이중 리스트로 만들어서 활용\n",
    "        \n",
    "1. 처음은 무조건 세야 한다\n",
    "2. 이미 존재하면 reported 값이 동일한지 세야 한다\n",
    "    - reported 값이 동일하지 않으면 추가해야 한다\n",
    "    - reported 값이 동일하면 세지 말아햐 한다"
   ]
  },
  {
   "cell_type": "code",
   "execution_count": 2,
   "metadata": {},
   "outputs": [],
   "source": [
    "from IPython.core.interactiveshell import InteractiveShell\n",
    "InteractiveShell.ast_node_interactivity = \"all\""
   ]
  },
  {
   "cell_type": "code",
   "execution_count": 3,
   "metadata": {},
   "outputs": [],
   "source": [
    "id_list = [\"muzi\", \"frodo\", \"apeach\", \"neo\"]\n",
    "report = [\"muzi frodo\",\"apeach muzi\",\"frodo neo\",\"muzi neo\",\"apeach muzi\"]\n",
    "k = 2\n",
    "# result = [2,1,1,0]\n",
    "\n",
    "id_list1 = [\"con\", \"ryan\"]\n",
    "report1 = [\"ryan con\", \"ryan con\", \"ryan con\", \"ryan con\"]\n",
    "k1 = 3\n",
    "# result1 = [0,0]"
   ]
  },
  {
   "cell_type": "code",
   "execution_count": 4,
   "metadata": {},
   "outputs": [
    {
     "data": {
      "text/plain": [
       "['muzi neo', 'muzi frodo', 'apeach muzi', 'frodo neo']"
      ]
     },
     "execution_count": 4,
     "metadata": {},
     "output_type": "execute_result"
    }
   ],
   "source": [
    "report = list(set(report))\n",
    "report"
   ]
  },
  {
   "attachments": {},
   "cell_type": "markdown",
   "metadata": {},
   "source": [
    "### 이중 리스트로 만들기"
   ]
  },
  {
   "cell_type": "code",
   "execution_count": 5,
   "metadata": {},
   "outputs": [],
   "source": [
    "def reportToDict(report):\n",
    "    report_dict = []\n",
    "    reporting = []\n",
    "    reported = []\n",
    "    \n",
    "    for i in range(len(report)):\n",
    "\n",
    "        temp_list = []\n",
    "\n",
    "        reporting.append(report[i].split()[0])\n",
    "        reported.append(report[i].split()[1])\n",
    "        \n",
    "        temp_list.append(reporting[i])\n",
    "        temp_list.append(reported[i])\n",
    "        report_dict.append(temp_list)\n",
    "    \n",
    "    return report_dict"
   ]
  },
  {
   "cell_type": "code",
   "execution_count": 6,
   "metadata": {},
   "outputs": [
    {
     "data": {
      "text/plain": [
       "[['muzi', 'neo'], ['muzi', 'frodo'], ['apeach', 'muzi'], ['frodo', 'neo']]"
      ]
     },
     "execution_count": 6,
     "metadata": {},
     "output_type": "execute_result"
    }
   ],
   "source": [
    "report_dict = reportToDict(report)\n",
    "report_dict"
   ]
  },
  {
   "attachments": {},
   "cell_type": "markdown",
   "metadata": {},
   "source": [
    "### 이중 리스트에서 중복 모두 지우기 \n",
    "-> 이중 리스트 이전에 set()으로 전부 지워지도록"
   ]
  },
  {
   "cell_type": "code",
   "execution_count": 11,
   "metadata": {},
   "outputs": [],
   "source": [
    "# set으로 만들어서 자동으로 사라지도록\n",
    "# def get_unique_list(seq):\n",
    "#     seen = []\n",
    "#     return [x for x in seq if x not in seen and not seen.append(x)]"
   ]
  },
  {
   "cell_type": "code",
   "execution_count": 16,
   "metadata": {},
   "outputs": [
    {
     "data": {
      "text/plain": [
       "[['apeach', 'muzi'], ['frodo', 'neo'], ['muzi', 'frodo'], ['muzi', 'neo']]"
      ]
     },
     "execution_count": 16,
     "metadata": {},
     "output_type": "execute_result"
    }
   ],
   "source": [
    "# report_dict = get_unique_list(report_dict)\n",
    "# report_dict"
   ]
  },
  {
   "attachments": {},
   "cell_type": "markdown",
   "metadata": {},
   "source": [
    "### 아이디가 정지된 사람만 dict로 반환"
   ]
  },
  {
   "cell_type": "code",
   "execution_count": 91,
   "metadata": {},
   "outputs": [],
   "source": [
    "# 정지된 사람인지 확인\n",
    "import collections\n",
    "\n",
    "def report_count(report_dict, k):\n",
    "\n",
    "    reported_dict = collections.Counter([y for x,y in report_dict])\n",
    "    report_dict_count = {key:value for key , value in reported_dict.items() if value >= k}\n",
    "    reported_list =  list(report_dict_count.keys())\n",
    "\n",
    "    return reported_list"
   ]
  },
  {
   "cell_type": "code",
   "execution_count": 16,
   "metadata": {},
   "outputs": [
    {
     "name": "stdout",
     "output_type": "stream",
     "text": [
      "report_dict 중 y만 출력 : ['neo', 'frodo', 'muzi', 'neo'] \n",
      "\n",
      "y값에 collections.counter를 사용 : Counter({'neo': 2, 'frodo': 1, 'muzi': 1}) \n",
      "\n",
      "collection으로 만들어진 dict중 value값이 k이상인 것만 출력 : {'neo': 2} \n",
      "\n",
      "k값 이상으로 신고된 인원의 리스트를 출력 :  ['neo'] \n",
      "\n"
     ]
    }
   ],
   "source": [
    "print('report_dict 중 y만 출력 :', [y for x,y in report_dict] ,'\\n') \n",
    "\n",
    "reported_dict_collection = collections.Counter([y for x,y in report_dict])\n",
    "print('y값에 collections.counter를 사용 :',reported_dict_collection,'\\n') \n",
    "\n",
    "report_dict_count = {key:value for key , value in reported_dict_collection.items() if value >= k}\n",
    "print('collection으로 만들어진 dict중 value값이 k이상인 것만 출력 :', report_dict_count, '\\n')\n",
    "\n",
    "reported_list =  list(report_dict_count.keys())\n",
    "print('k값 이상으로 신고된 인원의 리스트를 출력 : ',reported_list, '\\n')"
   ]
  },
  {
   "cell_type": "code",
   "execution_count": 90,
   "metadata": {},
   "outputs": [
    {
     "data": {
      "text/plain": [
       "['neo', 'frodo']"
      ]
     },
     "execution_count": 90,
     "metadata": {},
     "output_type": "execute_result"
    },
    {
     "data": {
      "text/plain": [
       "[['muzi', 'frodo'], ['muzi']]"
      ]
     },
     "execution_count": 90,
     "metadata": {},
     "output_type": "execute_result"
    },
    {
     "data": {
      "text/plain": [
       "['muzi', 'frodo', 'muzi']"
      ]
     },
     "execution_count": 90,
     "metadata": {},
     "output_type": "execute_result"
    },
    {
     "name": "stdout",
     "output_type": "stream",
     "text": [
      "mail : {'muzi': 2, 'frodo': 1}\n",
      "**************************************************\n",
      "copy ['muzi', 'frodo', 'apeach', 'neo']\n"
     ]
    },
    {
     "data": {
      "text/plain": [
       "[2, 1, 0, 0]"
      ]
     },
     "execution_count": 90,
     "metadata": {},
     "output_type": "execute_result"
    }
   ],
   "source": [
    "# 기존 리스트에서 정지된 사람을 신고한 사람 리스트 남기기\n",
    "reported_list\n",
    "reported_list = ['neo', 'frodo']\n",
    "report_dict = [['muzi', 'neo'], ['muzi', 'frodo'], ['apeach', 'muzi'], ['frodo', 'neo']]\n",
    "\n",
    "mailed_list1 = []\n",
    "for i in reported_list:\n",
    "    mailed_list1.append([x for x,y in report_dict if y == i])\n",
    "\n",
    "mailed_list1\n",
    "mailed_list1 = sum(mailed_list1, [])\n",
    "mailed_list1\n",
    "mailed_list1_dict = dict(collections.Counter(mailed_list1))\n",
    "print('mail :',mailed_list1_dict)\n",
    "\n",
    "print('*'*50)\n",
    "\n",
    "id_list1 = id_list.copy()\n",
    "print('copy',id_list1)\n",
    "id_report_test = [0 for i in range(len(id_list))]\n",
    "\n",
    "\n",
    "\n",
    "# for i in range(len(id_list1)):\n",
    "#     try:\n",
    "#         id_report_test[i] = mailed_list1_dict[id_list1[i]]\n",
    "#     except:\n",
    "#         pass\n",
    "\n",
    "for i in mailed_list1_dict:\n",
    "    id_report_test[id_list1.index(i)] = mailed_list1_dict[i]\n",
    "\n",
    "\n",
    "id_report_test"
   ]
  },
  {
   "cell_type": "code",
   "execution_count": 98,
   "metadata": {},
   "outputs": [],
   "source": [
    "def mailing_list2(id_list, report_dict, reported_list):\n",
    "    \n",
    "    id_report = [0 for i in range(len(id_list))]\n",
    "    mailed_list1 = []\n",
    "    for i in reported_list:\n",
    "        mailed_list1.append([x for x,y in report_dict if y == i])\n",
    "\n",
    "    mailed_list1 = sum(mailed_list1, [])\n",
    "    mailed_list1_dict = dict(collections.Counter(mailed_list1))\n",
    "    \n",
    "    for i in mailed_list1_dict:\n",
    "        id_report[id_list.index(i)] = mailed_list1_dict[i]\n",
    "\n",
    "    return id_report"
   ]
  },
  {
   "cell_type": "code",
   "execution_count": 99,
   "metadata": {},
   "outputs": [
    {
     "data": {
      "text/plain": [
       "[2, 1, 0, 0]"
      ]
     },
     "execution_count": 99,
     "metadata": {},
     "output_type": "execute_result"
    }
   ],
   "source": [
    "reported_list = ['neo', 'frodo']\n",
    "report_dict = [['muzi', 'neo'], ['muzi', 'frodo'], ['apeach', 'muzi'], ['frodo', 'neo']]\n",
    "\n",
    "mailing_list2(id_list, report_dict, reported_list)"
   ]
  },
  {
   "cell_type": "code",
   "execution_count": 102,
   "metadata": {},
   "outputs": [],
   "source": [
    "def solution2(id_list, report, k):\n",
    "    report = list(set(report))\n",
    "\n",
    "    report_dict = reportToDict(report)\n",
    "    reported_list = report_count(report_dict, k)\n",
    "    mail_list = mailing_list2(id_list, report_dict, reported_list)\n",
    "    return mail_list"
   ]
  },
  {
   "cell_type": "code",
   "execution_count": 103,
   "metadata": {},
   "outputs": [
    {
     "data": {
      "text/plain": [
       "[1, 1, 0, 0]"
      ]
     },
     "execution_count": 103,
     "metadata": {},
     "output_type": "execute_result"
    }
   ],
   "source": [
    "solution2(id_list, report, k)"
   ]
  },
  {
   "attachments": {},
   "cell_type": "markdown",
   "metadata": {},
   "source": [
    "### 신고한 사람에게 메일 보내기"
   ]
  },
  {
   "cell_type": "code",
   "execution_count": 27,
   "metadata": {},
   "outputs": [
    {
     "data": {
      "text/plain": [
       "{'muzi': 0, 'frodo': 0, 'apeach': 0, 'neo': 0}"
      ]
     },
     "execution_count": 27,
     "metadata": {},
     "output_type": "execute_result"
    }
   ],
   "source": [
    "id_report = [0 for i in range(len(id_list))]\n",
    "mail_dict_ = dict(zip(id_list,id_report))\n",
    "mail_dict_"
   ]
  },
  {
   "cell_type": "code",
   "execution_count": 21,
   "metadata": {},
   "outputs": [],
   "source": [
    "def mailing_list(mail_dict, report_dict, report_dict_count):\n",
    "\n",
    "    mail_list1 =[]\n",
    "    reported = list(report_dict_count.keys())\n",
    "    for i in range(len(reported)):\n",
    "        mail_list1.append([x for x,y in report_dict if y==reported[i]]) \n",
    "        \n",
    "    mail_list1 = sum(mail_list1, [])\n",
    "    mail_list_dict = dict(collections.Counter(mail_list1))\n",
    "    mail_dict.update(mail_list_dict)\n",
    "\n",
    "    result = list(mail_dict.values())\n",
    "    \n",
    "    return result "
   ]
  },
  {
   "cell_type": "code",
   "execution_count": null,
   "metadata": {},
   "outputs": [],
   "source": []
  },
  {
   "cell_type": "code",
   "execution_count": 22,
   "metadata": {},
   "outputs": [
    {
     "ename": "NameError",
     "evalue": "name 'mail_dict_' is not defined",
     "output_type": "error",
     "traceback": [
      "\u001b[1;31m---------------------------------------------------------------------------\u001b[0m",
      "\u001b[1;31mNameError\u001b[0m                                 Traceback (most recent call last)",
      "\u001b[1;32m~\\AppData\\Local\\Temp\\ipykernel_9148\\2698177181.py\u001b[0m in \u001b[0;36m<cell line: 1>\u001b[1;34m()\u001b[0m\n\u001b[1;32m----> 1\u001b[1;33m \u001b[0mmailing_list\u001b[0m\u001b[1;33m(\u001b[0m\u001b[0mmail_dict_\u001b[0m\u001b[1;33m,\u001b[0m \u001b[0mreport_dict\u001b[0m\u001b[1;33m,\u001b[0m \u001b[0mreport_dict_count\u001b[0m\u001b[1;33m)\u001b[0m\u001b[1;33m\u001b[0m\u001b[1;33m\u001b[0m\u001b[0m\n\u001b[0m",
      "\u001b[1;31mNameError\u001b[0m: name 'mail_dict_' is not defined"
     ]
    }
   ],
   "source": [
    "mailing_list(mail_dict_, report_dict, report_dict_count)"
   ]
  },
  {
   "cell_type": "code",
   "execution_count": 120,
   "metadata": {},
   "outputs": [],
   "source": [
    "id_list = [\"muzi\", \"frodo\", \"apeach\", \"neo\"]\n",
    "report = [\"muzi frodo\",\"apeach muzi\",\"frodo neo\",\"muzi neo\",\"apeach muzi\"]"
   ]
  },
  {
   "cell_type": "code",
   "execution_count": 121,
   "metadata": {},
   "outputs": [
    {
     "data": {
      "text/plain": [
       "{'muzi': 0, 'frodo': 0, 'apeach': 0, 'neo': 0}"
      ]
     },
     "execution_count": 121,
     "metadata": {},
     "output_type": "execute_result"
    }
   ],
   "source": [
    "id_report = [0 for i in range(len(id_list))]\n",
    "mail_dict_ = dict(zip(id_list,id_report))\n",
    "mail_dict_"
   ]
  },
  {
   "cell_type": "code",
   "execution_count": 24,
   "metadata": {},
   "outputs": [],
   "source": [
    "def solution(id_list, report, k):\n",
    "    id_report = [0 for i in range(len(id_list))]\n",
    "    mail_dict_ = dict(zip(id_list,id_report))\n",
    "    report = list(set(report))\n",
    "\n",
    "    report_dict = reportToDict(report)\n",
    "    reported_list = report_count(report_dict, k)\n",
    "    mail_list = mailing_list(mail_dict_, report_dict, reported_list)\n",
    "    return mail_list"
   ]
  },
  {
   "cell_type": "code",
   "execution_count": 94,
   "metadata": {},
   "outputs": [
    {
     "data": {
      "text/plain": [
       "[1, 1, 0, 0]"
      ]
     },
     "execution_count": 94,
     "metadata": {},
     "output_type": "execute_result"
    }
   ],
   "source": [
    "solution(id_list, report, k)"
   ]
  },
  {
   "cell_type": "code",
   "execution_count": 104,
   "metadata": {},
   "outputs": [],
   "source": [
    "### 최종 코드\n",
    "import collections\n",
    "\n",
    "def reportToDict(report):\n",
    "    report_dict = []\n",
    "    reporting = []\n",
    "    reported = []\n",
    "    \n",
    "    for i in range(len(report)):\n",
    "\n",
    "        temp_list = []\n",
    "\n",
    "        reporting.append(report[i].split()[0])\n",
    "        reported.append(report[i].split()[1])\n",
    "        \n",
    "        temp_list.append(reporting[i])\n",
    "        temp_list.append(reported[i])\n",
    "        report_dict.append(temp_list)\n",
    "    \n",
    "    return report_dict\n",
    "\n",
    "\n",
    "def report_count(report_dict, k):\n",
    "\n",
    "    reported_dict = collections.Counter([y for x,y in report_dict])\n",
    "    report_dict_count = {key:value for key , value in reported_dict.items() if value >= k}\n",
    "    reported_list =  list(report_dict_count.keys())\n",
    "\n",
    "    return reported_list\n",
    "\n",
    "\n",
    "def mailing_list2(id_list, report_dict, reported_list):\n",
    "    \n",
    "    id_report = [0 for i in range(len(id_list))]\n",
    "    mailed_list1 = []\n",
    "    for i in reported_list:\n",
    "        mailed_list1.append([x for x,y in report_dict if y == i])\n",
    "\n",
    "    mailed_list1 = sum(mailed_list1, [])\n",
    "    mailed_list1_dict = dict(collections.Counter(mailed_list1))\n",
    "    \n",
    "    for i in mailed_list1_dict:\n",
    "        id_report[id_list.index(i)] = mailed_list1_dict[i]\n",
    "\n",
    "    return id_report\n",
    "\n",
    "def solution(id_list, report, k):\n",
    "    report = list(set(report))\n",
    "\n",
    "    report_dict = reportToDict(report)\n",
    "    reported_list = report_count(report_dict, k)\n",
    "    mail_list = mailing_list2(id_list, report_dict, reported_list)\n",
    "    return mail_list\n"
   ]
  },
  {
   "cell_type": "code",
   "execution_count": 105,
   "metadata": {},
   "outputs": [],
   "source": [
    "### 다른 사람의 풀이\n",
    "\n",
    "def solution(id_list, report, k):\n",
    "    answer = [0] * len(id_list)    \n",
    "    reports = {x : 0 for x in id_list}\n",
    "\n",
    "    # set으로 지우고 신고 받은 사람 전부 reports 에 추가\n",
    "    for r in set(report):\n",
    "        reports[r.split()[1]] += 1\n",
    "\n",
    "    # reports가 k 이상이면 answer에 추가\n",
    "    for r in set(report):\n",
    "        if reports[r.split()[1]] >= k:\n",
    "            answer[id_list.index(r.split()[0])] += 1\n",
    "\n",
    "    return answer\n"
   ]
  },
  {
   "cell_type": "code",
   "execution_count": 120,
   "metadata": {},
   "outputs": [
    {
     "data": {
      "text/plain": [
       "{'muzi': 0, 'frodo': 0, 'apeach': 0, 'neo': 0}"
      ]
     },
     "execution_count": 120,
     "metadata": {},
     "output_type": "execute_result"
    },
    {
     "data": {
      "text/plain": [
       "{'muzi': 0, 'frodo': 0, 'apeach': 0, 'neo': 0}"
      ]
     },
     "execution_count": 120,
     "metadata": {},
     "output_type": "execute_result"
    }
   ],
   "source": [
    "id_report = [0 for i in range(len(id_list))]\n",
    "mail_dict_ = dict(zip(id_list,id_report))\n",
    "\n",
    "reports = {x : 0 for x in id_list}\n",
    "\n",
    "reports\n",
    "mail_dict_"
   ]
  },
  {
   "attachments": {},
   "cell_type": "markdown",
   "metadata": {},
   "source": [
    "### 자가진단\n",
    "1. 기존 자료를 그대로 사용하면 코드길이를 상당히 줄일 수 있다\n",
    "2. 오히려 report를 나누려고 해서 더 많은 작업이 들어갔다 \n",
    "    - 이중 리스트로 변경해서 접근하나 계속 split으로 접근하나 똑같은데 굳이 바꿀 필요가 없었던 것 같다.\n",
    "3. 알아야 하는 것\n",
    "    - dict도 for로 만들면 됨\n",
    "    - k값을 계속 비교하는 것보다 전부 넣고 마지막에 거르는 것이 더 좋은 방법 : 어떤 방법이 더 좋은지 어떻게 판별해야 하나\n",
    "        - 마지막 제출 값의 형식을 잘 생각해서 중간에 쓸모없는 코드(형식을 변환하는 코드)가 들어가지 않으면 더 깔끔할 것 같다\n"
   ]
  },
  {
   "attachments": {},
   "cell_type": "markdown",
   "metadata": {},
   "source": [
    "출처: 프로그래머스 코딩 테스트 연습, https://school.programmers.co.kr/learn/courses/30/lessons/92334"
   ]
  },
  {
   "cell_type": "markdown",
   "metadata": {},
   "source": []
  }
 ],
 "metadata": {
  "kernelspec": {
   "display_name": "Python 3",
   "language": "python",
   "name": "python3"
  },
  "language_info": {
   "codemirror_mode": {
    "name": "ipython",
    "version": 3
   },
   "file_extension": ".py",
   "mimetype": "text/x-python",
   "name": "python",
   "nbconvert_exporter": "python",
   "pygments_lexer": "ipython3",
   "version": "3.10.9 (tags/v3.10.9:1dd9be6, Dec  6 2022, 20:01:21) [MSC v.1934 64 bit (AMD64)]"
  },
  "orig_nbformat": 4,
  "vscode": {
   "interpreter": {
    "hash": "d86e5f3e65a370f4f0c7c6c157476db0f2576129ce19971a1015c727da11cca3"
   }
  }
 },
 "nbformat": 4,
 "nbformat_minor": 2
}
