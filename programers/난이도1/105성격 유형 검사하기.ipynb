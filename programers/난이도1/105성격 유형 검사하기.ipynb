{
 "cells": [
  {
   "attachments": {},
   "cell_type": "markdown",
   "metadata": {},
   "source": [
    "성격 유형 검사하기  \n",
    "문제 설명  \n",
    "나만의 카카오 성격 유형 검사지를 만들려고 합니다.  \n",
    "성격 유형 검사는 다음과 같은 4개 지표로 성격 유형을 구분합니다. 성격은 각 지표에서 두 유형 중 하나로 결정됩니다.\n",
    "\n",
    "지표 번호\t성격 유형  \n",
    "1번 지표\t라이언형(R), 튜브형(T)  \n",
    "2번 지표\t콘형(C), 프로도형(F)  \n",
    "3번 지표\t제이지형(J), 무지형(M)  \n",
    "4번 지표\t어피치형(A), 네오형(N)  \n",
    "4개의 지표가 있으므로 성격 유형은 총 16(=2 x 2 x 2 x 2)가지가 나올 수 있습니다. 예를 들어, \"RFMN\"이나 \"TCMA\"와 같은 성격 유형이 있습니다.  \n",
    "\n",
    "검사지에는 총 n개의 질문이 있고, 각 질문에는 아래와 같은 7개의 선택지가 있습니다.  \n",
    "\n",
    "매우 비동의  \n",
    "비동의  \n",
    "약간 비동의  \n",
    "모르겠음  \n",
    "약간 동의  \n",
    "동의  \n",
    "매우 동의  \n",
    "각 질문은 1가지 지표로 성격 유형 점수를 판단합니다.  \n",
    "\n",
    "예를 들어, 어떤 한 질문에서 4번 지표로 아래 표처럼 점수를 매길 수 있습니다.  \n",
    "\n",
    "선택지\t성격 유형 점수  \n",
    "매우 비동의\t네오형 3점  \n",
    "비동의\t네오형 2점  \n",
    "약간 비동의\t네오형 1점  \n",
    "모르겠음\t어떤 성격 유형도 점수를 얻지 않습니다  \n",
    "약간 동의\t어피치형 1점  \n",
    "동의\t어피치형 2점  \n",
    "매우 동의\t어피치형 3점  \n",
    "이때 검사자가 질문에서 약간 동의 선택지를 선택할 경우 어피치형(A) 성격 유형 1점을 받게 됩니다. 만약 검사자가 매우 비동의 선택지를 선택할 경우 네오형(N) 성격 유형 3점을 받게 됩니다.  \n",
    "\n",
    "위 예시처럼 네오형이 비동의, 어피치형이 동의인 경우만 주어지지 않고, 질문에 따라 네오형이 동의, 어피치형이 비동의인 경우도 주어질 수 있습니다.  \n",
    "하지만 각 선택지는 고정적인 크기의 점수를 가지고 있습니다.  \n",
    "\n",
    "매우 동의나 매우 비동의 선택지를 선택하면 3점을 얻습니다.  \n",
    "동의나 비동의 선택지를 선택하면 2점을 얻습니다.  \n",
    "약간 동의나 약간 비동의 선택지를 선택하면 1점을 얻습니다.  \n",
    "모르겠음 선택지를 선택하면 점수를 얻지 않습니다.  \n",
    "검사 결과는 모든 질문의 성격 유형 점수를 더하여 각 지표에서 더 높은 점수를 받은 성격 유형이 검사자의 성격 유형이라고 판단합니다. 단, 하나의 지표에서 각 성격 유형 점수가 같으면, 두 성격 유형 중 사전 순으로 빠른 성격 유형을 검사자의 성격 유형이라고 판단합니다.  \n",
    "\n",
    "질문마다 판단하는 지표를 담은 1차원 문자열 배열 survey와 검사자가 각 질문마다 선택한 선택지를 담은 1차원 정수 배열 choices가 매개변수로 주어집니다. 이때, 검사자의 성격 유형 검사 결과를 지표 번호 순서대로 return 하도록 solution 함수를 완성해주세요.  "
   ]
  },
  {
   "attachments": {},
   "cell_type": "markdown",
   "metadata": {},
   "source": [
    "제한사항  \n",
    "1 ≤ survey의 길이 ( = n) ≤ 1,000\n",
    "survey의 원소는 \"RT\", \"TR\", \"FC\", \"CF\", \"MJ\", \"JM\", \"AN\", \"NA\" 중 하나입니다.\n",
    "survey[i]의 첫 번째 캐릭터는 i+1번 질문의 비동의 관련 선택지를 선택하면 받는 성격 유형을 의미합니다.\n",
    "survey[i]의 두 번째 캐릭터는 i+1번 질문의 동의 관련 선택지를 선택하면 받는 성격 유형을 의미합니다.\n",
    "choices의 길이 = survey의 길이\n",
    "\n",
    "choices[i]는 검사자가 선택한 i+1번째 질문의 선택지를 의미합니다.\n",
    "1 ≤ choices의 원소 ≤ 7"
   ]
  },
  {
   "cell_type": "code",
   "execution_count": 98,
   "metadata": {},
   "outputs": [],
   "source": [
    "# \"TCMA\"\n",
    "survey = [\"AN\", \"CF\", \"MJ\", \"RT\", \"NA\"]\n",
    "choices = [5, 3, 2, 7, 5]\n",
    "# \"RCJA\"\n",
    "survey1 = [\"TR\", \"RT\", \"TR\"]\n",
    "choices1 = [7, 1, 3]\t"
   ]
  },
  {
   "cell_type": "code",
   "execution_count": 99,
   "metadata": {},
   "outputs": [
    {
     "data": {
      "text/plain": [
       "'A'"
      ]
     },
     "execution_count": 99,
     "metadata": {},
     "output_type": "execute_result"
    }
   ],
   "source": [
    "survey[0][0]"
   ]
  },
  {
   "cell_type": "code",
   "execution_count": 267,
   "metadata": {},
   "outputs": [],
   "source": [
    "def score(survey, choices, score_Loc, score_val, len_survey):\n",
    "    \n",
    "    if choices < 4:\n",
    "        for i in range(len(score_Loc)):\n",
    "            for j in range(len(score_Loc[i])):\n",
    "                if survey[0] == score_Loc[i][j]:\n",
    "                    score_val[i][j] = score_val[i][j] + 4-choices\n",
    "                    break\n",
    "            \n",
    "    elif choices > 4:\n",
    "        for i in range(len(score_Loc)):\n",
    "            for j in range(len(score_Loc[i])):\n",
    "                if survey[1] == score_Loc[i][j]:\n",
    "                    score_val[i][j] += choices-4\n",
    "                    break\n",
    "    else:\n",
    "        pass\n",
    "\n",
    "    return score_val"
   ]
  },
  {
   "cell_type": "code",
   "execution_count": 268,
   "metadata": {},
   "outputs": [],
   "source": [
    "def select(answer, score_Loc, score_val):\n",
    "        for i in range(len(score_Loc)):\n",
    "            for j in range(len(score_Loc[i])):\n",
    "                if max(score_val[i]) == min(score_val[i]):\n",
    "                    answer.append(score_Loc[i][j])\n",
    "                elif max(score_val[i]) == score_val[i][j]:\n",
    "                    answer.append(score_Loc[i][j])\n",
    "        return answer"
   ]
  },
  {
   "cell_type": "code",
   "execution_count": 269,
   "metadata": {},
   "outputs": [],
   "source": [
    "def solution(survey, choices):\n",
    "    # RT, CF, JM, AN\n",
    "    score_Loc =[['R','T'],['C','F'],['J','M'],['A','N']]\n",
    "    score_val = [[0]*2 for i in range(4)]\n",
    "    answer = []\n",
    "    for i in range(len(survey)):\n",
    "        score_val = score(survey[i], choices[i], score_Loc, score_val, len(choices))\n",
    "    \n",
    "    answer = select(answer, score_Loc, score_val)\n",
    "    answer = ''.join(s for s in answer)\n",
    "\n",
    "    return answer"
   ]
  },
  {
   "cell_type": "code",
   "execution_count": 263,
   "metadata": {},
   "outputs": [
    {
     "data": {
      "text/plain": [
       "'RCJA'"
      ]
     },
     "execution_count": 263,
     "metadata": {},
     "output_type": "execute_result"
    }
   ],
   "source": [
    "# \"TCMA\"\n",
    "survey = [\"AN\", \"CF\", \"MJ\", \"RT\", \"NA\",\"AN\"]\n",
    "choices = [5, 3, 2, 7, 5,5]\n",
    "# \"RCJA\"\n",
    "survey1 = [\"TR\", \"RT\", \"TR\"]\n",
    "choices1 = [7, 1, 3]\n",
    "\n",
    "# \"RCJA\"\n",
    "survey2 = [\"RT\"]\n",
    "choices2 = [5]\n",
    "\n",
    "solution(survey1, choices1)"
   ]
  },
  {
   "cell_type": "code",
   "execution_count": 264,
   "metadata": {},
   "outputs": [
    {
     "name": "stdout",
     "output_type": "stream",
     "text": [
      "[[0, 0], [0, 0], [0, 0], [0, 0]]\n"
     ]
    }
   ],
   "source": [
    "# test\n",
    "survey = [\"AN\", \"CF\", \"MJ\", \"RT\", \"NA\"]\n",
    "choices = [3, 4, 4, 4, 4]\n",
    "\n",
    "survey = [\"AN\", \"CF\", \"MJ\", \"RT\", \"NA\", \"RT\"]\n",
    "choices = [5, 5, 5, 5, 5, 5]\n",
    "\n",
    "score_Loc =[['R','T'],['C','F'],['J','M'],['A','N']]\n",
    "score_val =[[0,0],[0,0],[0,0],[0,0]]\n",
    "\n",
    "for i in range(len(survey)):\n",
    "    score_val = score(survey[i], choices[i], score_Loc, score_val, len(survey))\n",
    "print(score_val)"
   ]
  },
  {
   "cell_type": "code",
   "execution_count": 154,
   "metadata": {},
   "outputs": [
    {
     "data": {
      "text/plain": [
       "1"
      ]
     },
     "execution_count": 154,
     "metadata": {},
     "output_type": "execute_result"
    }
   ],
   "source": [
    "score_val =[[0,0],[0,0],[0,0],[0,0]]\n",
    "score_val[0][0] += 1\n",
    "score_val[0][0]"
   ]
  },
  {
   "cell_type": "code",
   "execution_count": 159,
   "metadata": {},
   "outputs": [
    {
     "data": {
      "text/plain": [
       "'N'"
      ]
     },
     "execution_count": 159,
     "metadata": {},
     "output_type": "execute_result"
    }
   ],
   "source": [
    "survey[0][1]"
   ]
  },
  {
   "cell_type": "code",
   "execution_count": 275,
   "metadata": {},
   "outputs": [
    {
     "name": "stdout",
     "output_type": "stream",
     "text": [
      "RT 7\n",
      "\n",
      "score_val 0\n",
      "choice 7\n",
      "<class 'int'>\n",
      "0\n",
      "0\n",
      "2 score_val[0][1]:T=3=3\n",
      "[[0, 3], [0, 0], [0, 0], [0, 0]]\n"
     ]
    }
   ],
   "source": [
    "survey = [\"AN\", \"CF\", \"MJ\", \"RT\", \"NA\"]\n",
    "choices = [3, 4, 5, 7, 4]\n",
    "\n",
    "score_Loc =[['R','T'],['C','F'],['J','M'],['A','N']]\n",
    "score_val =[[0,0],[0,0],[0,0],[0,0]]\n",
    "# len(choices)\n",
    "\n",
    "\n",
    "n=3\n",
    "survey = survey[n]\n",
    "choices = choices[n]\n",
    "print(survey,choices)\n",
    "print()\n",
    "if choices < 4:\n",
    "    for i in range(len(score_Loc)):\n",
    "        for j in range(len(score_Loc[i])):\n",
    "            if survey[0] == score_Loc[i][j]:\n",
    "                print(survey[0],score_Loc[i][j])\n",
    "                score_val[i][j] = score_val[i][j] + 4-choices\n",
    "                print(f'1 score_val[{i}][{j}]:{score_Loc[i][j]}={score_val[i][j]} = {4-choices}')\n",
    "                break\n",
    "        \n",
    "elif choices > 4:\n",
    "    for i in range(len(score_Loc)):\n",
    "        for j in range(len(score_Loc[i])):\n",
    "            if survey[1] == score_Loc[i][j]:\n",
    "                print('score_val',score_val[i][j])\n",
    "                print('choice',choices)\n",
    "                print(type(score_val[i][i]))\n",
    "                print(score_val[i][i]+score_val[i][i])\n",
    "                print(score_val[i][i])\n",
    "                score_val[i][j] = score_val[i][j] + (choices-4)\n",
    "                print(f'2 score_val[{i}][{j}]:{score_Loc[i][j]}={score_val[i][j]}={choices-4}')\n",
    "                break\n",
    "            \n",
    "else:\n",
    "    pass\n",
    "print(score_val)"
   ]
  },
  {
   "attachments": {},
   "cell_type": "markdown",
   "metadata": {},
   "source": [
    "### 풀이 과정\n",
    "총 8개의 점수를 부여하고 2개 중에 높은 점수를 비교하면 되므로\n",
    "1. 문자열 리스트와 값을 넣을 리스트를 만들어서 input값의 문자열을 보고 그 위치에 해당 choice값을 넣도록 만들고\n",
    "2. 값을 넣은 리스트를 비교하여 높은 문자열을 새로 리스트로 만들어서 완성하였다\n"
   ]
  },
  {
   "attachments": {},
   "cell_type": "markdown",
   "metadata": {},
   "source": [
    "출처: 프로그래머스 코딩 테스트 연습, https://school.programmers.co.kr/learn/courses/30/lessons/118666"
   ]
  }
 ],
 "metadata": {
  "kernelspec": {
   "display_name": "Python 3",
   "language": "python",
   "name": "python3"
  },
  "language_info": {
   "codemirror_mode": {
    "name": "ipython",
    "version": 3
   },
   "file_extension": ".py",
   "mimetype": "text/x-python",
   "name": "python",
   "nbconvert_exporter": "python",
   "pygments_lexer": "ipython3",
   "version": "3.10.9"
  },
  "orig_nbformat": 4,
  "vscode": {
   "interpreter": {
    "hash": "d86e5f3e65a370f4f0c7c6c157476db0f2576129ce19971a1015c727da11cca3"
   }
  }
 },
 "nbformat": 4,
 "nbformat_minor": 2
}
