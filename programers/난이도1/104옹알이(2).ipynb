{
 "cells": [
  {
   "attachments": {},
   "cell_type": "markdown",
   "metadata": {},
   "source": [
    "1. 머쓱이는 태어난 지 11개월 된 조카를 돌보고 있습니다. \n",
    "2. 조카는 아직 \"aya\", \"ye\", \"woo\", \"ma\" 네 가지 발음과 네 가지 발음을 조합해서 만들 수 있는 발음밖에 하지 못하고 연속해서 같은 발음을 하는 것을 어려워합니다. \n",
    "3. 문자열 배열 babbling이 매개변수로 주어질 때, 머쓱이의 조카가 발음할 수 있는 단어의 개수를 return하도록 solution 함수를 완성해주세요."
   ]
  },
  {
   "cell_type": "code",
   "execution_count": 33,
   "metadata": {},
   "outputs": [],
   "source": [
    "babbling = [\"aya\", \"yee\", \"u\", \"maa\"]\t#result = 1\n",
    "babbling1 = [\"ayaye\", \"uuu\", \"yeye\", \"yemawoo\", \"ayaayaa\"] #result = 2\n",
    "babbling2 = [\"mayeayawoomayeayawoomayeayawoo\", \"auyeuu\", \"ayemaayayeye\", \"ayemawoo\", \"aaa\"] #result = 2"
   ]
  },
  {
   "cell_type": "code",
   "execution_count": 23,
   "metadata": {},
   "outputs": [],
   "source": [
    "def series(total_babbl, babbl):\n",
    "    if total_babbl[:2*len(babbl)] == babbl + babbl:\n",
    "        return True\n",
    "    else:\n",
    "        return False\n",
    "    "
   ]
  },
  {
   "cell_type": "code",
   "execution_count": 41,
   "metadata": {},
   "outputs": [],
   "source": [
    "# def check(babbl):\n",
    "#     if babbl[:3] == 'aya':\n",
    "#         if series(babbl,babbl[:3]) == True:\n",
    "#             return False\n",
    "#         return babbl.replace('aya','')\n",
    "#     elif babbl[:2] == 'ye':\n",
    "#         if series(babbl,babbl[:2]) == True:\n",
    "#             return False\n",
    "#         return babbl.replace('ye','')\n",
    "#     elif babbl[:3] == 'woo':\n",
    "#         if series(babbl,babbl[:3]) == True:\n",
    "#             return False\n",
    "#         return babbl.replace('woo','')\n",
    "#     elif babbl[:2] == 'ma':\n",
    "#         if series(babbl,babbl[:2]) == True:\n",
    "#             return False\n",
    "#         return babbl.replace('ma','')\n",
    "#     elif babbl == '':\n",
    "#         return True\n",
    "#     else:\n",
    "#         return False"
   ]
  },
  {
   "cell_type": "code",
   "execution_count": 42,
   "metadata": {},
   "outputs": [],
   "source": [
    "def check(babbl):\n",
    "    if babbl[:3] == 'aya':\n",
    "        if series(babbl,babbl[:3]) == True:\n",
    "            return False\n",
    "        return babbl[3:]\n",
    "    elif babbl[:2] == 'ye':\n",
    "        if series(babbl,babbl[:2]) == True:\n",
    "            return False\n",
    "        return babbl[2:]\n",
    "    elif babbl[:3] == 'woo':\n",
    "        if series(babbl,babbl[:3]) == True:\n",
    "            return False\n",
    "        return babbl[3:]\n",
    "    elif babbl[:2] == 'ma':\n",
    "        if series(babbl,babbl[:2]) == True:\n",
    "            return False\n",
    "        return babbl[2:]\n",
    "    elif babbl == '':\n",
    "        return True\n",
    "    else:\n",
    "        return False"
   ]
  },
  {
   "cell_type": "code",
   "execution_count": 54,
   "metadata": {},
   "outputs": [],
   "source": [
    "def solution(babbling):\n",
    "    answer = 0 \n",
    "    \n",
    "    for i in range(len(babbling)):\n",
    "        babbl = babbling[i]\n",
    "        while type(babbl) != bool:\n",
    "            babbl = check(babbl)\n",
    "        if babbl == True:\n",
    "            answer+=1\n",
    "            \n",
    "    return answer"
   ]
  },
  {
   "cell_type": "code",
   "execution_count": 55,
   "metadata": {},
   "outputs": [
    {
     "data": {
      "text/plain": [
       "1"
      ]
     },
     "execution_count": 55,
     "metadata": {},
     "output_type": "execute_result"
    }
   ],
   "source": [
    "solution(babbling2)"
   ]
  },
  {
   "cell_type": "code",
   "execution_count": 53,
   "metadata": {},
   "outputs": [
    {
     "data": {
      "text/plain": [
       "False"
      ]
     },
     "execution_count": 53,
     "metadata": {},
     "output_type": "execute_result"
    }
   ],
   "source": [
    "babbling2[0]\n",
    "check2(babbling2[0])\n",
    "temp = 'yeayawoomayeayawoomayeayawoo'\n",
    "check2(temp)\n",
    "temp ='wo'\n",
    "check2(temp)"
   ]
  },
  {
   "cell_type": "code",
   "execution_count": 5,
   "metadata": {},
   "outputs": [],
   "source": [
    "# def solution(babbling):\n",
    "#     answer = 0 \n",
    "    \n",
    "#     for i in range(len(babbling)):\n",
    "#         input = babbling[i]\n",
    "#         while type(input) != bool:\n",
    "#             input = check(input)\n",
    "#         if input == True:\n",
    "#             answer+=1\n",
    "            \n",
    "#     return answer"
   ]
  },
  {
   "cell_type": "code",
   "execution_count": 90,
   "metadata": {},
   "outputs": [
    {
     "ename": "ValueError",
     "evalue": "not enough values to unpack (expected 2, got 0)",
     "output_type": "error",
     "traceback": [
      "\u001b[1;31m---------------------------------------------------------------------------\u001b[0m",
      "\u001b[1;31mValueError\u001b[0m                                Traceback (most recent call last)",
      "Cell \u001b[1;32mIn [90], line 1\u001b[0m\n\u001b[1;32m----> 1\u001b[0m temp, \u001b[39minput\u001b[39m \u001b[39m=\u001b[39m check(babbling1[\u001b[39m2\u001b[39m])\n\u001b[0;32m      2\u001b[0m \u001b[39mprint\u001b[39m(\u001b[39m'\u001b[39m\u001b[39m0\u001b[39m\u001b[39m'\u001b[39m,temp)\n\u001b[0;32m      3\u001b[0m \u001b[39mprint\u001b[39m(\u001b[39m'\u001b[39m\u001b[39m1\u001b[39m\u001b[39m'\u001b[39m, \u001b[39minput\u001b[39m)\n",
      "\u001b[1;31mValueError\u001b[0m: not enough values to unpack (expected 2, got 0)"
     ]
    }
   ],
   "source": [
    "temp, input = check(babbling1[2])\n",
    "print('0',temp)\n",
    "print('1', input)\n"
   ]
  },
  {
   "cell_type": "code",
   "execution_count": 62,
   "metadata": {},
   "outputs": [
    {
     "data": {
      "text/plain": [
       "'ye'"
      ]
     },
     "execution_count": 62,
     "metadata": {},
     "output_type": "execute_result"
    }
   ],
   "source": [
    "babbling1[2][2:]"
   ]
  },
  {
   "attachments": {},
   "cell_type": "markdown",
   "metadata": {},
   "source": [
    "출처: 프로그래머스 코딩 테스트 연습, https://school.programmers.co.kr/learn/courses/30/lessons/133499"
   ]
  }
 ],
 "metadata": {
  "kernelspec": {
   "display_name": "Python 3",
   "language": "python",
   "name": "python3"
  },
  "language_info": {
   "codemirror_mode": {
    "name": "ipython",
    "version": 3
   },
   "file_extension": ".py",
   "mimetype": "text/x-python",
   "name": "python",
   "nbconvert_exporter": "python",
   "pygments_lexer": "ipython3",
   "version": "3.10.9 (tags/v3.10.9:1dd9be6, Dec  6 2022, 20:01:21) [MSC v.1934 64 bit (AMD64)]"
  },
  "orig_nbformat": 4,
  "vscode": {
   "interpreter": {
    "hash": "d86e5f3e65a370f4f0c7c6c157476db0f2576129ce19971a1015c727da11cca3"
   }
  }
 },
 "nbformat": 4,
 "nbformat_minor": 2
}
