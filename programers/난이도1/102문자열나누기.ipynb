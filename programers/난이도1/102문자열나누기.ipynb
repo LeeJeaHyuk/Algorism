{
 "cells": [
  {
   "attachments": {},
   "cell_type": "markdown",
   "metadata": {},
   "source": [
    "문자열 s가 입력되었을 때 다음 규칙을 따라서 이 문자열을 여러 문자열로 분해하려고 합니다.\n",
    "\n",
    "1. 먼저 첫 글자를 읽습니다. 이 글자를 x라고 합시다.  \n",
    "  \n",
    "2. 이제 이 문자열을 왼쪽에서 오른쪽으로 읽어나가면서, x와 x가 아닌 다른 글자들이 나온 횟수를 각각 셉니다.  \n",
    "  \n",
    "3. 처음으로 두 횟수가 같아지는 순간 멈추고, 지금까지 읽은 문자열을 분리합니다.  \n",
    "   \n",
    "4. s에서 분리한 문자열을 빼고 남은 부분에 대해서 이 과정을 반복합니다. 남은 부분이 없다면 종료합니다.  \n",
    "  \n",
    "5. 만약 두 횟수가 다른 상태에서 더 이상 읽을 글자가 없다면, 역시 지금까지 읽은 문자열을 분리하고, 종료합니다.  \n",
    "  \n",
    "6. 문자열 s가 매개변수로 주어질 때, 위 과정과 같이 문자열들로 분해하고, 분해한 문자열의 개수를 return 하는 함수 solution을 완성하세요.  "
   ]
  },
  {
   "attachments": {},
   "cell_type": "markdown",
   "metadata": {},
   "source": [
    "입출력 예  \n",
    "s\tresult  \n",
    "\"banana\"\t3  \n",
    "\"abracadabra\"\t6  \n",
    "\"aaabbaccccabba\"\t3  "
   ]
  },
  {
   "cell_type": "code",
   "execution_count": 76,
   "metadata": {},
   "outputs": [],
   "source": [
    "def DivStr(s):\n",
    "    x = 1\n",
    "    not_x = 0\n",
    "\n",
    "    i=0\n",
    "    while x != not_x:\n",
    "        try:\n",
    "            if s[0] == s[i+1]:\n",
    "                x += 1  \n",
    "            elif s[0] != s[i+1]:\n",
    "                not_x += 1\n",
    "        except:\n",
    "            break\n",
    "        i+=1\n",
    "        \n",
    "    new_s = s[:i+1]\n",
    "    return new_s\n",
    "            "
   ]
  },
  {
   "cell_type": "code",
   "execution_count": 103,
   "metadata": {},
   "outputs": [],
   "source": [
    "def solution(s):\n",
    "    answer = 0\n",
    "\n",
    "    while 1:\n",
    "        new_s =''\n",
    "        if s == new_s:\n",
    "            break\n",
    "        new_s = DivStr(s)        \n",
    "        s = s[len(new_s):]\n",
    "        answer += 1\n",
    "    \n",
    "    return answer"
   ]
  },
  {
   "cell_type": "code",
   "execution_count": 106,
   "metadata": {},
   "outputs": [
    {
     "data": {
      "text/plain": [
       "6"
      ]
     },
     "execution_count": 106,
     "metadata": {},
     "output_type": "execute_result"
    }
   ],
   "source": [
    "s = 'banana'\n",
    "s2 = \"abracadabra\"\n",
    "s3 = \"aaabbaccccabba\"\n",
    "solution(s2)"
   ]
  },
  {
   "cell_type": "code",
   "execution_count": 65,
   "metadata": {},
   "outputs": [
    {
     "data": {
      "text/plain": [
       "'nana'"
      ]
     },
     "execution_count": 65,
     "metadata": {},
     "output_type": "execute_result"
    }
   ],
   "source": [
    "s = 'banana'\n",
    "\n",
    "sol = solution(s)\n",
    "result = ''.join(map(str, sol))\n",
    "len(result)\n",
    "s_new = s[len(result):]\n",
    "s_new"
   ]
  },
  {
   "attachments": {},
   "cell_type": "markdown",
   "metadata": {},
   "source": [
    "### 다른 사람의 풀이"
   ]
  },
  {
   "cell_type": "code",
   "execution_count": 107,
   "metadata": {},
   "outputs": [],
   "source": [
    "# 큐 사용\n",
    "from collections import deque\n",
    "\n",
    "def solution(s):\n",
    "\n",
    "    ans = 0\n",
    "\n",
    "    q = deque(s)    \n",
    "    while q:\n",
    "        a, b = 1, 0\n",
    "        x = q.popleft()    \n",
    "\n",
    "        while q:\n",
    "            n = q.popleft()\n",
    "            if n == x:\n",
    "                a += 1\n",
    "            else:\n",
    "                b += 1\n",
    "\n",
    "            if a == b:\n",
    "                ans += 1\n",
    "                break\n",
    "    if a != b:\n",
    "        ans += 1\n",
    "\n",
    "    return ans\n"
   ]
  },
  {
   "attachments": {},
   "cell_type": "markdown",
   "metadata": {},
   "source": [
    "출처: 프로그래머스 코딩 테스트 연습, https://school.programmers.co.kr/learn/courses/30/lessons/140108"
   ]
  },
  {
   "cell_type": "code",
   "execution_count": null,
   "metadata": {},
   "outputs": [],
   "source": []
  }
 ],
 "metadata": {
  "kernelspec": {
   "display_name": "Python 3",
   "language": "python",
   "name": "python3"
  },
  "language_info": {
   "codemirror_mode": {
    "name": "ipython",
    "version": 3
   },
   "file_extension": ".py",
   "mimetype": "text/x-python",
   "name": "python",
   "nbconvert_exporter": "python",
   "pygments_lexer": "ipython3",
   "version": "3.10.9"
  },
  "orig_nbformat": 4,
  "vscode": {
   "interpreter": {
    "hash": "d86e5f3e65a370f4f0c7c6c157476db0f2576129ce19971a1015c727da11cca3"
   }
  }
 },
 "nbformat": 4,
 "nbformat_minor": 2
}
