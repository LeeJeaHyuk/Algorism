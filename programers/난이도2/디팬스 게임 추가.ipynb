{
 "cells": [
  {
   "cell_type": "code",
   "execution_count": null,
   "metadata": {},
   "outputs": [],
   "source": [
    "import heapq\n",
    "\n",
    "def solution(n, k, enemy):\n",
    "    def check(n, enemy):\n",
    "        for idx in range(len(enemy)):\n",
    "            if n < sum(enemy[:idx+1]):\n",
    "                return idx\n",
    "        return len(enemy)\n",
    "\n",
    "    for i in range(k):\n",
    "        max_num = check(n, enemy)\n",
    "        if max_num == 0:\n",
    "            return 0\n",
    "        max_value_index = enemy.index(heapq.nlargest(1, enemy[:max_num])[0])\n",
    "        enemy[max_value_index] = 0\n",
    "        if sum(enemy) <= n:\n",
    "            return max_num\n",
    "\n",
    "    answer = check(n, enemy)\n",
    "    return answer"
   ]
  },
  {
   "cell_type": "code",
   "execution_count": 1,
   "metadata": {},
   "outputs": [],
   "source": [
    "def solution(n, k, enemy):\n",
    "    dp = [[0] * (n + 1) for _ in range(k + 1)]\n",
    "\n",
    "    for i in range(1, k + 1):\n",
    "        for j in range(1, n + 1):\n",
    "            if j >= enemy[i-1]:\n",
    "                dp[i][j] = max(dp[i-1][j], dp[i-1][j-enemy[i-1]] + 1)\n",
    "            else:\n",
    "                dp[i][j] = dp[i-1][j]\n",
    "\n",
    "    return dp[k][n]"
   ]
  },
  {
   "cell_type": "code",
   "execution_count": 7,
   "metadata": {},
   "outputs": [],
   "source": [
    "def solution(n, k, enemy):\n",
    "    dp = [0] * (n+1) # Initialize a list to store the maximum number of enemies killed with i bullets\n",
    "    print(dp)\n",
    "    for i in range(1, k+1):\n",
    "        for j in range(n, 0, -1): # Loop through the number of bullets in reverse order\n",
    "            for l in range(len(enemy)):\n",
    "                if j >= enemy[l]:\n",
    "                    dp[j] = max(dp[j], dp[j-enemy[l]] + l+1)\n",
    "                    print(dp)\n",
    "                # The \"+ l+1\" represents the number of enemies that can be killed with the remaining bullets\n",
    "                # after killing the current enemy l\n",
    "    return dp[n]"
   ]
  },
  {
   "cell_type": "code",
   "execution_count": 17,
   "metadata": {},
   "outputs": [],
   "source": [
    "def solution(n, k, enemy):\n",
    "    dp = [[0] * (n + 1) for _ in range(len(enemy) + 1)]\n",
    "    # print(dp)\n",
    "    for i in range(1, len(enemy) + 1):\n",
    "        for j in range(n + 1):\n",
    "            for x in range(j + 1):\n",
    "                print(dp,'\\n')\n",
    "                dp[i][j] = max(dp[i][j], dp[i-1][j-x] + min(x, enemy[i-1]))\n",
    "\n",
    "    return dp[-1][-1]"
   ]
  },
  {
   "cell_type": "code",
   "execution_count": 27,
   "metadata": {},
   "outputs": [],
   "source": [
    "#최장 증가 부분 수열(LIS) 알고리즘\n",
    "def find_lis_length(nums):\n",
    "    n = len(nums)\n",
    "    dp = [1] * n  # initialize dp array with 1s\n",
    "    print(dp)\n",
    "    for i in range(n):\n",
    "        for j in range(i):\n",
    "            if nums[j] < nums[i]:\n",
    "                print(dp)\n",
    "                dp[i] = max(dp[i], dp[j] + 1)\n",
    "    return max(dp)"
   ]
  },
  {
   "cell_type": "code",
   "execution_count": 3,
   "metadata": {},
   "outputs": [],
   "source": [
    "def solution(n, k, enemy):\n",
    "    dp = [[0] * (n + 1) for _ in range(k + 1)]\n",
    "    print(dp)\n",
    "    # 폭탄의 개수를 어디에 사용하는지 : K+1개의 배열 사용\n",
    "    for i in range(1, k + 1):\n",
    "        for j in range(1, n + 1):\n",
    "            if j >= enemy[i-1]:\n",
    "                dp[i][j] = max(dp[i-1][j], dp[i][j-enemy[i-1]] + 1, dp[i-1][j-enemy[i-1]] + 1)\n",
    "            else:\n",
    "                dp[i][j] = dp[i-1][j]\n",
    "\n",
    "    return dp[k][n]"
   ]
  },
  {
   "cell_type": "code",
   "execution_count": 7,
   "metadata": {},
   "outputs": [],
   "source": [
    "def max_rounds(n, k, enemy):\n",
    "    dp = [[0] * (n+1) for _ in range(len(enemy)+1)]\n",
    "    print(dp)\n",
    "    for i in range(1, len(enemy)+1):\n",
    "        for j in range(1, n+1):\n",
    "            for m in range(min(j, enemy[i-1])+1):\n",
    "                if m == enemy[i-1]:\n",
    "                    dp[i][j] = max(dp[i][j], dp[i-1][j-m] + 1)\n",
    "                else:\n",
    "                    dp[i][j] = max(dp[i][j], dp[i-1][j-m])\n",
    "\n",
    "    # Use bomb to clear as many rounds as possible\n",
    "    for j in range(1, n+1):\n",
    "        for m in range(1, min(j, len(enemy)*k)+1):\n",
    "            dp[-1][j] = max(dp[-1][j], dp[-1][j-m] + (m+k)//(k+1))\n",
    "\n",
    "    return dp[-1][-1]"
   ]
  },
  {
   "cell_type": "code",
   "execution_count": 16,
   "metadata": {},
   "outputs": [],
   "source": [
    "def max_rounds(n, k, enemy):\n",
    "    dp = [[0] * (n+1) for _ in range(len(enemy)+1)]\n",
    "    print(dp)\n",
    "    for i in range(1, len(enemy)+1):\n",
    "        bombs = k\n",
    "        for j in range(1, n+1):\n",
    "            if j >= enemy[i-1]:\n",
    "                dp[i][j] = dp[i-1][j-enemy[i-1]] + 1\n",
    "            if bombs > 0:\n",
    "                dp[i][j] = max(dp[i][j], dp[i-1][min(n, j+enemy[i-1])] + 1)\n",
    "                bombs -= 1\n",
    "            dp[i][j] = max(dp[i][j], dp[i-1][j])\n",
    "            print(dp)\n",
    "    return dp[-1][-1]"
   ]
  },
  {
   "cell_type": "code",
   "execution_count": 19,
   "metadata": {},
   "outputs": [
    {
     "name": "stdout",
     "output_type": "stream",
     "text": [
      "[[0, 0, 0, 0, 0, 0, 0, 0], [0, 0, 0, 0, 0, 0, 0, 0], [0, 0, 0, 0, 0, 0, 0, 0], [0, 0, 0, 0, 0, 0, 0, 0]]\n",
      "3\n"
     ]
    }
   ],
   "source": [
    "n = 7\n",
    "k = 3\n",
    "enemy = [4, 2, 4, 5, 3, 3, 1]\n",
    "\n",
    "dp = [[0] * (n+1) for _ in range(k+1)]\n",
    "print(dp)\n",
    "for i in range(1, len(enemy)+1):\n",
    "    for j in range(n, enemy[i-1]-1, -1):\n",
    "        dp[0][j] = max(dp[0][j], dp[0][j-enemy[i-1]] + 1)\n",
    "        for m in range(1, k+1):\n",
    "            if j >= enemy[i-1]:\n",
    "                dp[m][j] = max(dp[m][j], dp[m-1][j-enemy[i-1]] + 1)\n",
    "            dp[m][j] = max(dp[m][j], dp[m][j-enemy[i-1]])\n",
    "\n",
    "print(dp[k][n])"
   ]
  },
  {
   "cell_type": "code",
   "execution_count": 23,
   "metadata": {},
   "outputs": [
    {
     "name": "stdout",
     "output_type": "stream",
     "text": [
      "[[[0, 0, 0, 0], [0, 0, 0, 0], [0, 0, 0, 0], [0, 0, 0, 0], [0, 0, 0, 0], [0, 0, 0, 0], [0, 0, 0, 0], [0, 0, 0, 0]], [[0, 0, 0, 0], [1, 1, 0, 0], [1, 1, 0, 0], [1, 1, 0, 0], [1, 1, 0, 0], [1, 1, 0, 0], [1, 1, 0, 0], [1, 1, 0, 0]], [[0, 0, 0, 0], [2, 1, 2, 1], [2, 2, 1, 1], [2, 2, 2, 1], [2, 2, 2, 1], [2, 2, 2, 1], [2, 2, 2, 1], [2, 2, 2, 1]], [[0, 0, 0, 0], [3, 1, 3, 3], [3, 3, 2, 3], [3, 3, 3, 2], [3, 3, 3, 3], [3, 3, 3, 3], [3, 3, 3, 3], [3, 3, 3, 3]], [[0, 0, 0, 0], [4, 1, 4, 4], [4, 4, 3, 4], [4, 4, 4, 3], [4, 4, 4, 4], [4, 4, 4, 4], [4, 4, 4, 4], [4, 4, 4, 4]], [[0, 0, 0, 0], [5, 1, 5, 5], [5, 5, 4, 5], [5, 5, 5, 4], [5, 5, 5, 5], [5, 5, 5, 5], [5, 5, 5, 5], [5, 5, 5, 5]], [[0, 0, 0, 0], [6, 1, 6, 6], [6, 6, 5, 6], [6, 6, 6, 5], [6, 6, 6, 6], [6, 6, 6, 6], [6, 6, 6, 6], [6, 6, 6, 6]], [[0, 0, 0, 0], [7, 1, 7, 7], [7, 7, 6, 7], [7, 7, 7, 6], [7, 7, 7, 7], [7, 7, 7, 7], [7, 7, 7, 7], [7, 7, 7, 7]]]\n"
     ]
    }
   ],
   "source": [
    "n = 7\n",
    "k = 3\n",
    "enemy = [4, 2, 4, 5, 3, 3, 1]\n",
    "\n",
    "dp = [[[0 for _ in range(k+1)] for _ in range(n+1)] for _ in range(len(enemy)+1)]\n",
    "\n",
    "for i in range(1, len(enemy)+1):\n",
    "    for j in range(1, n+1):\n",
    "        for m in range(k+1):\n",
    "            for b in range(min(m, i)+1):\n",
    "                if b == m:\n",
    "                    dp[i][j][m] = max(dp[i][j][m], dp[i-1][j-b][m-b] + 1)\n",
    "                else:\n",
    "                    dp[i][j][m] = max(dp[i][j][m], dp[i-1][j-b][m-b], dp[i-1][j][m-b])\n",
    "\n",
    "print(dp)"
   ]
  },
  {
   "cell_type": "code",
   "execution_count": 30,
   "metadata": {},
   "outputs": [],
   "source": [
    "# 실제 적의 분포를 고려하지 않고 최대한 많은 적을 해결하려고 한다.\n",
    "def max_rounds(n, k, enemy):\n",
    "    # Initialize dp list\n",
    "    dp = [[[0] * (n+1) for _ in range(k+1)] for _ in range(len(enemy)+1)]\n",
    "    dim1 = len(dp)\n",
    "    dim2 = len(dp[0])\n",
    "    dim3 = len(dp[0][0])\n",
    "    print(f\"The dimensions of the list are ({dim1}, {dim2}, {dim3})\")\n",
    "    # Fill dp list\n",
    "    for i in range(1, len(enemy)+1):\n",
    "        for j in range(k+1):\n",
    "            for m in range(n+1):\n",
    "                if j > 0:\n",
    "                    dp[i][j][m] = max(dp[i][j][m], dp[i-1][j-1][n] + (m == 0))\n",
    "                if m >= enemy[i-1]:\n",
    "                    dp[i][j][m] = max(dp[i][j][m], dp[i][j][m-enemy[i-1]] + 1, dp[i-1][j][m-enemy[i-1]] + 1)\n",
    "                else:\n",
    "                    dp[i][j][m] = max(dp[i][j][m], dp[i-1][j][m])\n",
    "    \n",
    "    # Find maximum number of rounds\n",
    "    max_rounds = 0\n",
    "    for j in range(k+1):\n",
    "        for m in range(n+1):\n",
    "            max_rounds = max(max_rounds, dp[-1][j][m])\n",
    "    \n",
    "    return max_rounds"
   ]
  },
  {
   "cell_type": "code",
   "execution_count": 31,
   "metadata": {},
   "outputs": [
    {
     "name": "stdout",
     "output_type": "stream",
     "text": [
      "The dimensions of the list are (8, 4, 8)\n"
     ]
    },
    {
     "data": {
      "text/plain": [
       "16"
      ]
     },
     "execution_count": 31,
     "metadata": {},
     "output_type": "execute_result"
    }
   ],
   "source": [
    "n = 7\n",
    "k = 3\n",
    "enemy = [4, 2, 4, 5, 3, 3, 1]\n",
    "max_rounds(n,k,enemy)"
   ]
  },
  {
   "cell_type": "code",
   "execution_count": 36,
   "metadata": {},
   "outputs": [],
   "source": [
    "def max_rounds(n, k, enemy):\n",
    "    dp = [[0] * (n+1) for _ in range(k+1)]\n",
    "    print(dp)\n",
    "    for i in range(1, k+1):\n",
    "        bullets = i*2 + (k-i)\n",
    "        bombs = k-i\n",
    "        for j in range(1, n+1):\n",
    "            if enemy[j-1] <= bullets:\n",
    "                dp[i][j] = max(dp[i][j-1], dp[i-1][j-1]+1)\n",
    "            if enemy[j-1] <= bullets and bombs > 0:\n",
    "                dp[i][j] = max(dp[i][j], dp[i][j-1]+1)\n",
    "            if dp[i][j] > dp[i-1][j]:\n",
    "                bullets -= enemy[j-1]\n",
    "                if enemy[j-1] > bullets and bombs > 0:\n",
    "                    bullets += 2\n",
    "                    bombs -= 1\n",
    "                else:\n",
    "                    bullets -= enemy[j-1]\n",
    "    return dp[k][n]"
   ]
  },
  {
   "cell_type": "code",
   "execution_count": 37,
   "metadata": {},
   "outputs": [
    {
     "name": "stdout",
     "output_type": "stream",
     "text": [
      "[[0, 0, 0, 0, 0, 0, 0, 0], [0, 0, 0, 0, 0, 0, 0, 0], [0, 0, 0, 0, 0, 0, 0, 0], [0, 0, 0, 0, 0, 0, 0, 0]]\n"
     ]
    },
    {
     "data": {
      "text/plain": [
       "0"
      ]
     },
     "execution_count": 37,
     "metadata": {},
     "output_type": "execute_result"
    }
   ],
   "source": [
    "n = 7\n",
    "k = 3\n",
    "enemy = [4, 2, 4, 5, 3, 3, 1]\n",
    "max_rounds(n,k,enemy)"
   ]
  },
  {
   "cell_type": "code",
   "execution_count": 38,
   "metadata": {},
   "outputs": [
    {
     "data": {
      "text/plain": [
       "2"
      ]
     },
     "execution_count": 38,
     "metadata": {},
     "output_type": "execute_result"
    }
   ],
   "source": [
    "def max_rounds(n, k, enemy):\n",
    "    dp = [[0] * (n+1) for _ in range(k+1)]\n",
    "    for i in range(1, k+1):\n",
    "        for j in range(1, n+1):\n",
    "            for m in range(min(j, enemy[j-1])+1):\n",
    "                if m == enemy[j-1]:\n",
    "                    dp[i][j] = max(dp[i][j], dp[i-1][j-m] + 1)\n",
    "                else:\n",
    "                    dp[i][j] = max(dp[i][j], dp[i-1][j-m])\n",
    "    return dp[k][n]\n",
    "    \n",
    "n = 7\n",
    "k = 3\n",
    "enemy = [4, 2, 4, 5, 3, 3, 1]\n",
    "max_rounds(n,k,enemy)"
   ]
  },
  {
   "cell_type": "code",
   "execution_count": 41,
   "metadata": {},
   "outputs": [
    {
     "name": "stdout",
     "output_type": "stream",
     "text": [
      "0\n"
     ]
    }
   ],
   "source": [
    "def max_rounds(n, k, enemy):\n",
    "    dp = [[[0] * (n+1) for _ in range(k+1)] for _ in range(n+1)]\n",
    "    for i in range(1, n+1):\n",
    "        for j in range(1, k+1):\n",
    "            for b in range(2*j+1):\n",
    "                if b >= enemy[i-1]:\n",
    "                    dp[i][j][b] = max(dp[i-1][j][b-enemy[i-1]]+1, dp[i-1][j][b])\n",
    "                    if j > 0:\n",
    "                        dp[i][j][b] = max(dp[i][j][b], dp[i-1][j-1][2*j-enemy[i-1]]+1)\n",
    "                else:\n",
    "                    dp[i][j][b] = dp[i-1][j][b]\n",
    "                    if j > 0:\n",
    "                        dp[i][j][b] = max(dp[i][j][b], dp[i-1][j-1][2*j])\n",
    "\n",
    "    return dp[n][k][0]\n",
    "\n",
    "n = 7\n",
    "k = 3\n",
    "enemy = [4, 2, 4, 5, 3, 3, 1]\n",
    "print(max_rounds(n, k, enemy)) # Output: 5"
   ]
  },
  {
   "cell_type": "code",
   "execution_count": 42,
   "metadata": {},
   "outputs": [
    {
     "data": {
      "text/plain": [
       "6"
      ]
     },
     "execution_count": 42,
     "metadata": {},
     "output_type": "execute_result"
    }
   ],
   "source": [
    "def max_rounds(n, k, enemy):\n",
    "    dp = [[[0] * (n+1) for _ in range(k+1)] for _ in range(k+1)]\n",
    "    for i in range(1, k+1):\n",
    "        for j in range(1, n+1):\n",
    "            for m in range(min(j, enemy[j-1], i*2+1)+1):\n",
    "                if m == enemy[j-1]:\n",
    "                    dp[i][0][j] = max(dp[i][0][j], dp[i-1][0][j-m] + 1)\n",
    "                else:\n",
    "                    dp[i][0][j] = max(dp[i][0][j], dp[i-1][0][j-m])\n",
    "                if i > 0 and m <= i*2:\n",
    "                    if m == enemy[j-1]:\n",
    "                        dp[i][i-1][j] = max(dp[i][i-1][j], dp[i][i-1][j-m] + 1)\n",
    "                    else:\n",
    "                        dp[i][i-1][j] = max(dp[i][i-1][j], dp[i][i-1][j-m])\n",
    "                if i > 0 and m == i*2+1:\n",
    "                    dp[i][i][j] = max(dp[i][i][j], dp[i-1][i][j-m] + 1)\n",
    "                elif i > 0 and m <= i*2 and dp[i][i-1][j-m] > 0:\n",
    "                    dp[i][i][j] = max(dp[i][i][j], dp[i][i-1][j-m] + 1)\n",
    "                if dp[i][i][j] > 0:\n",
    "                    if m <= i*2:\n",
    "                        dp[i][i][j] = max(dp[i][i][j], dp[i][i][j-m])\n",
    "                    if i < k and m <= i*2-1:\n",
    "                        dp[i+1][i][j] = max(dp[i+1][i][j], dp[i][i][j-m] + 1)\n",
    "    return max(dp[i][j][n] for i in range(k+1) for j in range(k+1))\n",
    "\n",
    "n = 7\n",
    "k = 3\n",
    "enemy = [4, 2, 4, 5, 3, 3, 1]\n",
    "max_rounds(n, k, enemy)"
   ]
  },
  {
   "cell_type": "code",
   "execution_count": 43,
   "metadata": {},
   "outputs": [
    {
     "name": "stdout",
     "output_type": "stream",
     "text": [
      "7\n"
     ]
    }
   ],
   "source": [
    "def max_rounds(n, k, enemy):\n",
    "    dp = [[[0] * (n+1) for _ in range(k+1)] for _ in range(2)]\n",
    "    for i in range(1, k+1):\n",
    "        for j in range(1, n+1):\n",
    "            for l in range(2):\n",
    "                if enemy[j-1] <= i*2+l:\n",
    "                    dp[l][i][j] = max(dp[l][i][j-1], dp[l][i-1][j-1]+1)\n",
    "                if enemy[j-1] <= i*2+l and i > 0:\n",
    "                    dp[l][i][j] = max(dp[l][i][j], dp[l][i][j-1]+1)\n",
    "                if dp[l][i][j] > dp[l][i-1][j]:\n",
    "                    if enemy[j-1] > i*2+l:\n",
    "                        if l == 0 and i > 0:\n",
    "                            dp[1][i-1][j] = max(dp[1][i-1][j], dp[l][i][j-1])\n",
    "                        else:\n",
    "                            dp[l][i][j] = max(dp[l][i][j], dp[l][i][j-1])\n",
    "                    else:\n",
    "                        i = i - 1 if enemy[j-1] > i*2+l-1 else i\n",
    "                        l = 1 if l == 0 and i > 0 else l\n",
    "    return dp[0][k][n]\n",
    "\n",
    "n = 7\n",
    "k = 3\n",
    "enemy = [4, 2, 4, 5, 3, 3, 1]\n",
    "\n",
    "print(max_rounds(n,k,enemy)) # Output: 5"
   ]
  },
  {
   "cell_type": "code",
   "execution_count": 44,
   "metadata": {},
   "outputs": [
    {
     "data": {
      "text/plain": [
       "[[[0, 0, 0, 0, 0, 0, 0, 0],\n",
       "  [0, 0, 0, 0, 0, 0, 0, 0],\n",
       "  [0, 0, 0, 0, 0, 0, 0, 0],\n",
       "  [0, 0, 0, 0, 0, 0, 0, 0]],\n",
       " [[0, 0, 0, 0, 0, 0, 0, 0],\n",
       "  [0, 0, 0, 0, 0, 0, 0, 0],\n",
       "  [0, 0, 0, 0, 0, 0, 0, 0],\n",
       "  [0, 0, 0, 0, 0, 0, 0, 0]]]"
      ]
     },
     "execution_count": 44,
     "metadata": {},
     "output_type": "execute_result"
    }
   ],
   "source": [
    "dp = [[[0] * (n+1) for _ in range(k+1)] for _ in range(2)]\n",
    "dp"
   ]
  },
  {
   "cell_type": "code",
   "execution_count": 45,
   "metadata": {},
   "outputs": [
    {
     "name": "stdout",
     "output_type": "stream",
     "text": [
      "0\n"
     ]
    }
   ],
   "source": [
    "def max_rounds(n, k, enemy):\n",
    "    dp = [[[0] * (n+1) for _ in range(k+1)] for _ in range(2)]\n",
    "    for i in range(1, k+1):\n",
    "        for j in range(1, n+1):\n",
    "            for l in range(2):\n",
    "                if enemy[j-1] <= i*2+l and j > dp[l][i][j-1]:\n",
    "                    dp[l][i][j] = max(dp[l][i][j-1], dp[l][i-1][j-1]+1)\n",
    "                if l == 0 and enemy[j-1] <= i*2+1 and i > 0 and j > dp[1][i][j-1]:\n",
    "                    dp[1][i][j] = max(dp[1][i][j-1], dp[0][i][j-1]+1)\n",
    "                if dp[l][i][j] > dp[l][i-1][j]:\n",
    "                    if enemy[j-1] > i*2+l and i > 0:\n",
    "                        dp[l][i][j] = dp[l][i-1][j-1]\n",
    "                    else:\n",
    "                        dp[l][i][j] = dp[l][i-1][j]    \n",
    "    return dp[0][k][n]\n",
    "\n",
    "n = 7\n",
    "k = 3\n",
    "enemy = [4, 2, 4, 5, 3, 3, 1]\n",
    "\n",
    "print(max_rounds(n, k, enemy))"
   ]
  },
  {
   "cell_type": "code",
   "execution_count": 1,
   "metadata": {},
   "outputs": [
    {
     "name": "stdout",
     "output_type": "stream",
     "text": [
      "7\n"
     ]
    }
   ],
   "source": [
    "def max_rounds(n, k, enemy):\n",
    "    dp = [[[0] * (n+1) for _ in range(k+1)] for _ in range(2)]\n",
    "    for i in range(1, k+1):\n",
    "        for j in range(1, n+1):\n",
    "            for b in range(2):\n",
    "                if enemy[j-1] <= 2*i+b and dp[b][i][j-1]+1 > dp[b][i-1][j-1]:\n",
    "                    dp[b][i][j] = dp[b][i][j-1] + 1\n",
    "                else:\n",
    "                    dp[b][i][j] = dp[b][i-1][j]\n",
    "                if enemy[j-1] > i+b*2 and i > 0 and dp[b][i][j-1]+1 > dp[1][i-1][j-1]:\n",
    "                    dp[1][i][j] = dp[b][i][j-1] + 1\n",
    "    return max(dp[0][-1][-1], dp[1][-1][-1])\n",
    "\n",
    "n = 7\n",
    "k = 3\n",
    "enemy = [4, 2, 4, 5, 3, 3, 1]\n",
    "print(max_rounds(n, k, enemy))"
   ]
  },
  {
   "attachments": {},
   "cell_type": "markdown",
   "metadata": {},
   "source": [
    "어떻게 차원을 구성해야 하는지 고민해보아야 함\n",
    "1. 리스트 안의 요소는 각 라운드의 최대 값이어야지 max()를 통해서 가장 많이 간 라운드를 알 수 있게 된다.\n",
    "2. 폭탄과 총알의 개수에 따른 최대 라운드 수를 확인할 수 있어야 한다.\n",
    "\n",
    "풀이\n",
    "1. 처음에 전체 라운드와 라운드 별 적의 개수와 총알의 개수, 폭탄의 개수가 주어진다.\n",
    "2. 어떤 조건일 때 몇 라운드까지 갈 수 있는지를 생각했을 때 그 조건의 종류와 수 만큼의 차원과 크기가 지정되어야 한다.\n",
    "3. 폭탄을 어떻게 사용하는지에 따라서 최종 라운드가 달라진다. \n",
    "\n",
    "예시\n",
    "1. 먼저 폭탄을 사용하지 않고 몇 라운드까지 갈 수 있는지를 확인하고 저장한다. 폭탄 0\n",
    "2. 해당 라운드까지 중에서 적이 가장 많이 존재하는 라운드에 폭탄을 사용하고 몇 라운드 까지 갈 수 있는지 확인하고 두 번쨰 리스트에 저장한다.\n",
    "3. 폭탄의 개수만큼 반복한다. \n",
    "4. 리스트의 마지막 부분이 최대 라운드 개수가 된다.\n"
   ]
  },
  {
   "cell_type": "code",
   "execution_count": 2,
   "metadata": {},
   "outputs": [
    {
     "data": {
      "text/plain": [
       "[[[0, 0, 0, 0, 0, 0, 0, 0],\n",
       "  [0, 0, 0, 0, 0, 0, 0, 0],\n",
       "  [0, 0, 0, 0, 0, 0, 0, 0],\n",
       "  [0, 0, 0, 0, 0, 0, 0, 0]],\n",
       " [[0, 0, 0, 0, 0, 0, 0, 0],\n",
       "  [0, 0, 0, 0, 0, 0, 0, 0],\n",
       "  [0, 0, 0, 0, 0, 0, 0, 0],\n",
       "  [0, 0, 0, 0, 0, 0, 0, 0]]]"
      ]
     },
     "execution_count": 2,
     "metadata": {},
     "output_type": "execute_result"
    }
   ],
   "source": [
    "n = 7\n",
    "k = 3\n",
    "enemy = [4, 2, 4, 5, 3, 3, 1]\n",
    "\n",
    "dp = [[[0] * (n+1) for _ in range(k+1)] for _ in range(2)]\n",
    "dp"
   ]
  },
  {
   "cell_type": "code",
   "execution_count": 26,
   "metadata": {},
   "outputs": [
    {
     "name": "stdout",
     "output_type": "stream",
     "text": [
      "0 [2, 0, 0, 0] 0\n",
      "1 [2, 3, 0, 0] 0\n",
      "2 [2, 3, 4, 0] 0\n",
      "3 [2, 3, 4, 5] 5\n"
     ]
    }
   ],
   "source": [
    "\n",
    "n = 7\n",
    "k = 3\n",
    "enemy = [4, 2, 4, 5, 3, 3, 1]\n",
    "\n",
    "# n=2\n",
    "# k=4\n",
    "# enemy =[3, 3, 3, 3]# 4 \n",
    "\n",
    "dp = [0 for _ in range(k+1)]\n",
    "\n",
    "def maximum_round(n,k,dp,enemy):\n",
    "    for idx,val in enumerate(enemy):\n",
    "        if n<=(sum(enemy[:idx+1])):\n",
    "            return idx\n",
    "    return idx\n",
    "\n",
    "for k_list in range(0,k+1):\n",
    "    dp[k_list] = maximum_round(n,k_list,dp,enemy)\n",
    "    max_value_index = enemy[:dp[k_list]+1].index(max(enemy[:dp[k_list]+1]))\n",
    "    enemy[max_value_index] = 0\n",
    "    # print(dp)\n",
    "\n",
    "\n",
    "    print(k_list,dp,dp[-1])"
   ]
  },
  {
   "attachments": {},
   "cell_type": "markdown",
   "metadata": {},
   "source": [
    "### 논리 2 \n",
    "무적권을 먼저 사용하면서"
   ]
  },
  {
   "cell_type": "code",
   "execution_count": 2,
   "metadata": {},
   "outputs": [
    {
     "data": {
      "text/plain": [
       "7"
      ]
     },
     "execution_count": 2,
     "metadata": {},
     "output_type": "execute_result"
    }
   ],
   "source": [
    "test_list = [0, 5, 1, 3, 7]\n",
    "max(test_list)\n",
    "\n",
    "# "
   ]
  },
  {
   "cell_type": "code",
   "execution_count": 2,
   "metadata": {},
   "outputs": [
    {
     "name": "stdout",
     "output_type": "stream",
     "text": [
      "2\n"
     ]
    }
   ],
   "source": [
    "def max_rounds(n, k, enemy):\n",
    "    bombs = k\n",
    "    rounds = 0\n",
    "    \n",
    "    for e in enemy:\n",
    "        if e <= bombs:\n",
    "            bombs -= e\n",
    "            rounds += 1\n",
    "        elif rounds < k:\n",
    "            max_enemy = max(enemy[rounds:])\n",
    "            if max_enemy <= bombs:\n",
    "                bombs -= max_enemy\n",
    "                rounds += 1\n",
    "        else:\n",
    "            break\n",
    "            \n",
    "    return rounds\n",
    "\n",
    "n = 7\n",
    "k = 3\n",
    "enemy = [4, 2, 4, 5, 3, 3, 1]\n",
    "print(max_rounds(n, k, enemy))"
   ]
  },
  {
   "cell_type": "code",
   "execution_count": 9,
   "metadata": {},
   "outputs": [
    {
     "data": {
      "text/plain": [
       "[[0, 0, 0, 0, 0, 0, 0], [0, 0, 0, 0, 0, 0, 0], [0, 0, 0, 0, 0, 0, 0]]"
      ]
     },
     "execution_count": 9,
     "metadata": {},
     "output_type": "execute_result"
    }
   ],
   "source": [
    "# round 수와 폭탄의 수를 통한 2차원 배열\n",
    "# max()가를 한 값이 리스트에 들어가야 한다.\n",
    "# 뭘 max해야 할까\n",
    "# enemy를 읽어온다 -> enemy에 모든 k를 먼저 사용한다.\n",
    "n = 7\n",
    "k = 3\n",
    "enemy = [4, 2, 4, 5, 3, 3, 1]\n",
    "\n",
    "max_round = [[0 for j in range(len(enemy))] for i in range(k)]\n",
    "max_round"
   ]
  },
  {
   "cell_type": "code",
   "execution_count": 45,
   "metadata": {},
   "outputs": [
    {
     "name": "stdout",
     "output_type": "stream",
     "text": [
      "[4, 2, 4, 5]\n"
     ]
    },
    {
     "data": {
      "text/plain": [
       "[3, 0, 2]"
      ]
     },
     "execution_count": 45,
     "metadata": {},
     "output_type": "execute_result"
    }
   ],
   "source": [
    "n = 7\n",
    "k = 3\n",
    "enemy = [4, 2, 4, 5, 3, 3, 1]\n",
    "\n",
    "test = enemy.copy()\n",
    "\n",
    "#1 폭탄을 먼저 다 쓰면 어디까지 갈 수 있는지\n",
    "def check(n, k, enemy):\n",
    "    for idx, val in enumerate(enemy[k:]) :\n",
    "        # print(sum(enemy[k:k+idx+1]))\n",
    "        if n < sum(enemy[k:k+idx+1]):\n",
    "            return k+idx\n",
    "    return k+idx\n",
    "\n",
    "max_round01 = check(n, k, enemy)\n",
    "\n",
    "index_value_pairs = list(enumerate(enemy[:max_round01]))\n",
    "\n",
    "# Sort the list of tuples in descending order based on value\n",
    "sorted_pairs = sorted(index_value_pairs, key=lambda x: x[1], reverse=True)\n",
    "\n",
    "# Extract the indices of the first three tuples\n",
    "top_indices = [pair[0] for pair in sorted_pairs[:k]]\n",
    "\n",
    "print(enemy[:max_round01])\n",
    "\n",
    "\n",
    "top_indices\n"
   ]
  },
  {
   "cell_type": "code",
   "execution_count": 60,
   "metadata": {},
   "outputs": [
    {
     "name": "stdout",
     "output_type": "stream",
     "text": [
      "[0, 2, 0, 0, 3, 3, 1]\n"
     ]
    }
   ],
   "source": [
    "def check(n, enemy, index_number):\n",
    "    for idx, val in enumerate(enemy[index_number:]):\n",
    "        if n < sum(enemy[index_number:index_number+idx+1]):\n",
    "            return index_number+idx\n",
    "    return index_number+idx\n",
    "\n",
    "def get_top_indices(my_list, k):\n",
    "    index_value_pairs = list(enumerate(my_list))\n",
    "    sorted_pairs = sorted(index_value_pairs, key=lambda x: x[1], reverse=True)\n",
    "    top_indices = [pair[0] for pair in sorted_pairs[:k]]\n",
    "    return top_indices\n",
    "\n",
    "\n",
    "for idx, val in enumerate(enemy[k:]) :\n",
    "    if n < sum(enemy[k:k+idx+1]):\n",
    "        init_enemy_k =  k+idx\n",
    "init_enemy_k = k+idx\n",
    "\n",
    "\n",
    "top_indices = get_top_indices(enemy[:max_round01],k)\n",
    "\n",
    "enemy_copy = enemy.copy()\n",
    "\n",
    "for idx, val in enumerate(top_indices):\n",
    "    enemy_copy[val] = 0\n",
    "\n",
    "max_round02 = check(n, enemy_copy, init_enemy_k)\n",
    "\n",
    "get_top_indices(enemy[:max_round02],k)\n",
    "\n",
    "print(enemy_copy)"
   ]
  },
  {
   "cell_type": "code",
   "execution_count": null,
   "metadata": {},
   "outputs": [],
   "source": []
  }
 ],
 "metadata": {
  "kernelspec": {
   "display_name": "base",
   "language": "python",
   "name": "python3"
  },
  "language_info": {
   "codemirror_mode": {
    "name": "ipython",
    "version": 3
   },
   "file_extension": ".py",
   "mimetype": "text/x-python",
   "name": "python",
   "nbconvert_exporter": "python",
   "pygments_lexer": "ipython3",
   "version": "3.9.12"
  },
  "orig_nbformat": 4,
  "vscode": {
   "interpreter": {
    "hash": "e4cce46d6be9934fbd27f9ca0432556941ea5bdf741d4f4d64c6cd7f8dfa8fba"
   }
  }
 },
 "nbformat": 4,
 "nbformat_minor": 2
}
