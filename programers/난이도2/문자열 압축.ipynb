{
 "cells": [
  {
   "attachments": {},
   "cell_type": "markdown",
   "metadata": {},
   "source": [
    "압축\n",
    "신입사원 어피치는 카카오톡으로 전송되는 메시지를 압축하여 전송 효율을 높이는 업무를 맡게 되었다. 메시지를 압축하더라도 전달되는 정보가 바뀌어서는 안 되므로, 압축 전의 정보를 완벽하게 복원 가능한 무손실 압축 알고리즘을 구현하기로 했다.\n",
    "\n",
    "어피치는 여러 압축 알고리즘 중에서 성능이 좋고 구현이 간단한 LZW(Lempel–Ziv–Welch) 압축을 구현하기로 했다. LZW 압축은 1983년 발표된 알고리즘으로, 이미지 파일 포맷인 GIF 등 다양한 응용에서 사용되었다.\n",
    "\n",
    "LZW 압축은 다음 과정을 거친다.\n",
    "\n",
    "길이가 1인 모든 단어를 포함하도록 사전을 초기화한다.\n",
    "사전에서 현재 입력과 일치하는 가장 긴 문자열 w를 찾는다.\n",
    "w에 해당하는 사전의 색인 번호를 출력하고, 입력에서 w를 제거한다.\n",
    "입력에서 처리되지 않은 다음 글자가 남아있다면(c), w+c에 해당하는 단어를 사전에 등록한다.\n",
    "단계 2로 돌아간다.  "
   ]
  },
  {
   "cell_type": "code",
   "execution_count": 33,
   "metadata": {},
   "outputs": [],
   "source": [
    "msg0 = 'KAKAO'  #[11, 1, 27, 15]\n",
    "msg1 = 'TOBEORNOTTOBEORTOBEORNOT' #\t[20, 15, 2, 5, 15, 18, 14, 15, 20, 27, 29, 31, 36, 30, 32, 34]\n",
    "msg2 = 'ABABABABABABABAB' #[1, 2, 27, 29, 28, 31, 30]"
   ]
  },
  {
   "attachments": {},
   "cell_type": "markdown",
   "metadata": {},
   "source": [
    "K\n",
    "KA\n",
    "KAK\n",
    "KAKA\n",
    "KAKAKO"
   ]
  },
  {
   "cell_type": "code",
   "execution_count": 78,
   "metadata": {},
   "outputs": [
    {
     "name": "stdout",
     "output_type": "stream",
     "text": [
      " \n",
      "1\n",
      "  K\n",
      "2\n",
      "  K A\n",
      "3\n",
      "  K A K\n",
      "4\n",
      "  K A K A\n",
      "5\n"
     ]
    }
   ],
   "source": [
    "dic = ['A', 'B', 'C', 'D', 'E', 'F', 'G', 'H', 'I', 'J', 'K', 'L', 'M', 'N', 'O', 'P', 'Q', 'R', 'S', 'T', 'U', 'V', 'W', 'X', 'Y', 'Z']\n",
    "\n",
    "tmp = ''\n",
    "sumval = ['']\n",
    "for idx, val in enumerate(msg0):\n",
    "    sumval.append(tmp) \n",
    "    val_string = ' '.join(str(s) for s in sumval)\n",
    "    print(val_string)\n",
    "    # print(sumval)\n",
    "    if val_string not in dic:\n",
    "        dic.append(val_string)\n",
    "        print(idx+1)\n",
    "    tmp = val"
   ]
  },
  {
   "cell_type": "code",
   "execution_count": 161,
   "metadata": {},
   "outputs": [
    {
     "name": "stdout",
     "output_type": "stream",
     "text": [
      "('AKAO', 'K')\n"
     ]
    }
   ],
   "source": [
    "from collections import deque\n",
    "\n",
    "def check(msg):\n",
    "    queue = deque()\n",
    "    for idx, val in enumerate(msg):\n",
    "        queue.append(val)\n",
    "        queue_str = ''.join(map(str, queue))\n",
    "        if queue_str not in dic and queue_str != '':\n",
    "            dic.append(queue_str)\n",
    "            new_msg = msg[len(queue_str[:-1]):]\n",
    "            return new_msg,queue_str[:-1]\n",
    "        \n",
    "msg0 = 'KAKAO'  #[11, 1, 27, 15]\n",
    "dic = ['A', 'B', 'C', 'D', 'E', 'F', 'G', 'H', 'I', 'J', 'K', 'L', 'M', 'N', 'O', 'P', 'Q', 'R', 'S', 'T', 'U', 'V', 'W', 'X', 'Y', 'Z']\n",
    "print(check(msg0))"
   ]
  },
  {
   "cell_type": "code",
   "execution_count": 131,
   "metadata": {},
   "outputs": [
    {
     "name": "stdout",
     "output_type": "stream",
     "text": [
      "KAKAO\n",
      "AKAO\n",
      "['K']\n",
      "['A', 'B', 'C', 'D', 'E', 'F', 'G', 'H', 'I', 'J', 'K', 'L', 'M', 'N', 'O', 'P', 'Q', 'R', 'S', 'T', 'U', 'V', 'W', 'X', 'Y', 'Z', 'KA']\n",
      "\n",
      "KAO\n",
      "['K', 'A']\n",
      "['A', 'B', 'C', 'D', 'E', 'F', 'G', 'H', 'I', 'J', 'K', 'L', 'M', 'N', 'O', 'P', 'Q', 'R', 'S', 'T', 'U', 'V', 'W', 'X', 'Y', 'Z', 'KA', 'AK']\n",
      "\n",
      "O\n",
      "['K', 'A', 'KA']\n",
      "['A', 'B', 'C', 'D', 'E', 'F', 'G', 'H', 'I', 'J', 'K', 'L', 'M', 'N', 'O', 'P', 'Q', 'R', 'S', 'T', 'U', 'V', 'W', 'X', 'Y', 'Z', 'KA', 'AK', 'KAO']\n",
      "\n",
      "[11, 1, 27, 15]\n"
     ]
    }
   ],
   "source": [
    "dic = ['A', 'B', 'C', 'D', 'E', 'F', 'G', 'H', 'I', 'J', 'K', 'L', 'M', 'N', 'O', 'P', 'Q', 'R', 'S', 'T', 'U', 'V', 'W', 'X', 'Y', 'Z']\n",
    "\n",
    "answer = []\n",
    "\n",
    "def check(msg):\n",
    "    sumval = []\n",
    "    for idx, val in enumerate(msg):\n",
    "        sumval.append(val) \n",
    "        val_string = ''.join(str(s) for s in sumval)\n",
    "        # print('val_string',val_string)\n",
    "        if val_string not in dic and val_string != '':\n",
    "            dic.append(val_string)\n",
    "            new_msg = msg[len(val_string[:-1]):]\n",
    "            return new_msg,val_string[:-1]\n",
    "\n",
    "print(msg0)\n",
    "\n",
    "new_msg, append_str = check(msg0)\n",
    "answer.append(append_str)\n",
    "print(new_msg)\n",
    "print(answer)\n",
    "print(dic)\n",
    "print()\n",
    "\n",
    "new_msg, append_str = check(new_msg)\n",
    "answer.append(append_str)\n",
    "print(new_msg)\n",
    "print(answer)\n",
    "print(dic)\n",
    "print()\n",
    "\n",
    "new_msg, append_str = check(new_msg)\n",
    "answer.append(append_str)\n",
    "print(new_msg)\n",
    "print(answer)\n",
    "print(dic)\n",
    "print()\n",
    "\n",
    "try : \n",
    "    new_msg, append_str = check(new_msg)\n",
    "    answer.append(append_str)\n",
    "    print(new_msg)\n",
    "    print(answer)\n",
    "    print(dic)\n",
    "    print()\n",
    "except:\n",
    "    answer.append(new_msg)\n",
    "\n",
    "for idx, val in enumerate(answer):\n",
    "    answer[idx] = dic.index(val)+1\n",
    "print(answer)"
   ]
  },
  {
   "attachments": {},
   "cell_type": "markdown",
   "metadata": {},
   "source": [
    "\n",
    "check 함수 \n",
    "1. 문자열을 받아서 한 글자씩 dic 리스트 안에 있는지 확인한다. \n",
    "2. 문자열이 존재하지 않으면 사전에 해당 문자열을 넣고 뒤에 문자를 하나 제거한 뒤 기존 msg를 초기화시킨다\n",
    "\n",
    "check 함수를 반복하면서 msg를 줄이고 answer를 최신화 한 후 더이상 할 수 없을 때 마지막 msg를 answer에 추가한다.\n",
    "answer를 사전의 index를 참고하여 숫자로 바꾼다\n"
   ]
  },
  {
   "cell_type": "code",
   "execution_count": 146,
   "metadata": {},
   "outputs": [],
   "source": [
    "def solution(msg):\n",
    "    dic = ['A', 'B', 'C', 'D', 'E', 'F', 'G', 'H', 'I', 'J', 'K', 'L', 'M', 'N', 'O', 'P', 'Q', 'R', 'S', 'T', 'U', 'V', 'W', 'X', 'Y', 'Z']\n",
    "    answer = []\n",
    "\n",
    "    def check(msg):\n",
    "        sumval = []\n",
    "        for idx, val in enumerate(msg):\n",
    "            sumval.append(val) \n",
    "            val_string = ''.join(str(s) for s in sumval)\n",
    "            if val_string not in dic and val_string != '':\n",
    "                dic.append(val_string)\n",
    "                new_msg = msg[len(val_string[:-1]):]\n",
    "                return new_msg,val_string[:-1]    \n",
    "\n",
    "    while 1:\n",
    "        try :\n",
    "            msg, append_str = check(msg)\n",
    "            answer.append(append_str)\n",
    "        except:\n",
    "            answer.append(msg)\n",
    "            break\n",
    "\n",
    "    for idx, val in enumerate(answer):\n",
    "        answer[idx] = dic.index(val)+1\n",
    "        \n",
    "    return answer"
   ]
  },
  {
   "cell_type": "code",
   "execution_count": 147,
   "metadata": {},
   "outputs": [
    {
     "data": {
      "text/plain": [
       "[20, 15, 2, 5, 15, 18, 14, 15, 20, 27, 29, 31, 36, 30, 32, 34]"
      ]
     },
     "execution_count": 147,
     "metadata": {},
     "output_type": "execute_result"
    }
   ],
   "source": [
    "solution(msg1)"
   ]
  },
  {
   "cell_type": "code",
   "execution_count": null,
   "metadata": {},
   "outputs": [],
   "source": [
    "from collections import deque\n",
    "\n",
    "def solution(msg):\n",
    "    dic = ['A', 'B', 'C', 'D', 'E', 'F', 'G', 'H', 'I', 'J', 'K', 'L', 'M', 'N', 'O', 'P', 'Q', 'R', 'S', 'T', 'U', 'V', 'W', 'X', 'Y', 'Z']\n",
    "    answer = []\n",
    "\n",
    "    def check(msg):\n",
    "        queue = deque()\n",
    "        for idx, val in enumerate(msg):\n",
    "            queue.append(val)\n",
    "            if val_string not in dic and val_string != '':\n",
    "                dic.append(val_string)\n",
    "                new_msg = msg[len(val_string[:-1]):]\n",
    "                return new_msg,val_string[:-1]    \n",
    "\n",
    "    while 1:\n",
    "        try :\n",
    "            msg, append_str = check(msg)\n",
    "            answer.append(append_str)\n",
    "        except:\n",
    "            answer.append(msg)\n",
    "            break\n",
    "\n",
    "    for idx, val in enumerate(answer):\n",
    "        answer[idx] = dic.index(val)+1\n",
    "        \n",
    "    return answer"
   ]
  },
  {
   "attachments": {},
   "cell_type": "markdown",
   "metadata": {},
   "source": [
    "출처: 프로그래머스 코딩 테스트 연습 : https://school.programmers.co.kr/learn/courses/30/lessons/17684"
   ]
  }
 ],
 "metadata": {
  "kernelspec": {
   "display_name": "Python 3",
   "language": "python",
   "name": "python3"
  },
  "language_info": {
   "codemirror_mode": {
    "name": "ipython",
    "version": 3
   },
   "file_extension": ".py",
   "mimetype": "text/x-python",
   "name": "python",
   "nbconvert_exporter": "python",
   "pygments_lexer": "ipython3",
   "version": "3.10.10"
  },
  "orig_nbformat": 4,
  "vscode": {
   "interpreter": {
    "hash": "d86e5f3e65a370f4f0c7c6c157476db0f2576129ce19971a1015c727da11cca3"
   }
  }
 },
 "nbformat": 4,
 "nbformat_minor": 2
}
