{
 "cells": [
  {
   "attachments": {},
   "cell_type": "markdown",
   "metadata": {},
   "source": [
    "### 문제 설명\n",
    "- 준호는 요즘 디펜스 게임에 푹 빠져 있습니다.\n",
    "- 디펜스 게임은 준호가 보유한 병사 n명으로 연속되는 적의 공격을 순서대로 막는 게임입니다.\n",
    "- 디펜스 게임은 다음과 같은 규칙으로 진행됩니다.\n",
    "\n",
    "- 준호는 처음에 병사 n명을 가지고 있습니다.\n",
    "- 매 라운드마다 enemy[i]마리의 적이 등장합니다.\n",
    "- 남은 병사 중 enemy[i]명 만큼 소모하여 enemy[i]마리의 적을 막을 수 있습니다.\n",
    "- 예를 들어 남은 병사가 7명이고, 적의 수가 2마리인 경우, 현재 라운드를 막으면 7 - 2 = 5명의 병사가 남습니다.\n",
    "- 남은 병사의 수보다 현재 라운드의 적의 수가 더 많으면 게임이 종료됩니다.\n",
    "- 게임에는 무적권이라는 스킬이 있으며, 무적권을 사용하면 병사의 소모없이 한 라운드의 공격을 막을 수 있습니다.\n",
    "- 무적권은 최대 k번 사용할 수 있습니다.\n",
    "- 준호는 무적권을 적절한 시기에 사용하여 최대한 많은 라운드를 진행하고 싶습니다.\n",
    "\n",
    "- 준호가 처음 가지고 있는 병사의 수 n, 사용 가능한 무적권의 횟수 k, 매 라운드마다 공격해오는 적의 수가 순서대로 담긴 정수 배열 enemy가 매개변수로 주어집니다.\n",
    "- 준호가 몇 라운드까지 막을 수 있는지 return 하도록 solution 함수를 완성해주세요."
   ]
  },
  {
   "cell_type": "code",
   "execution_count": 38,
   "metadata": {},
   "outputs": [],
   "source": [
    "n0=7\n",
    "k0=3\n",
    "enemy0 = [4, 2, 4, 5, 3, 3, 1]#\t5\n",
    "\n",
    "n1=2\n",
    "k1=4\n",
    "enemy1 =[3, 3, 3, 3]# 4 \n",
    "\n",
    "n2=10\n",
    "k2=4\n",
    "enemy2 = [4, 2, 7, 5, 3, 3, 8, 6]# 7\n",
    "\n",
    "n = n1\n",
    "k = k1\n",
    "enemy = enemy1\n",
    "print(enemy)"
   ]
  },
  {
   "cell_type": "code",
   "execution_count": 98,
   "metadata": {},
   "outputs": [
    {
     "name": "stdout",
     "output_type": "stream",
     "text": [
      "[0, 0, 3, 3]\n",
      "[0, 0, 0, 0]\n",
      "[0, 0, 0, 0]\n"
     ]
    }
   ],
   "source": [
    "n = n0\n",
    "print(enemy)\n",
    "if sum(enemy) < n:\n",
    "    enemy = [0 for x in enemy]\n",
    "    print(enemy)\n",
    "else:\n",
    "    for idx, val in enumerate(enemy):\n",
    "        n -= val\n",
    "        if n < 0:\n",
    "            print('idx',idx)\n",
    "            max_value_index = enemy[:idx+1].index(max(enemy[:idx+1]))\n",
    "            enemy[max_value_index] = 0\n",
    "            break\n",
    "    \n",
    "print(enemy)"
   ]
  },
  {
   "cell_type": "code",
   "execution_count": 82,
   "metadata": {},
   "outputs": [
    {
     "data": {
      "text/plain": [
       "9"
      ]
     },
     "execution_count": 82,
     "metadata": {},
     "output_type": "execute_result"
    }
   ],
   "source": [
    "sum(enemy)"
   ]
  },
  {
   "cell_type": "code",
   "execution_count": 153,
   "metadata": {},
   "outputs": [
    {
     "name": "stdout",
     "output_type": "stream",
     "text": [
      "[4, 2, 4, 0, 3, 3, 1]\n",
      "[0, 2, 4, 0, 3, 3, 1]\n"
     ]
    }
   ],
   "source": [
    "for idx in enemy:\n",
    "    if sum(enemy)==0:\n",
    "        print(enemy) \n",
    "    elif n < sum(enemy[:idx]):\n",
    "        max_value_index = enemy[:idx+1].index(max(enemy[:idx+1]))\n",
    "        enemy[max_value_index] = 0\n",
    "        print(enemy)"
   ]
  },
  {
   "cell_type": "code",
   "execution_count": 162,
   "metadata": {},
   "outputs": [],
   "source": [
    "def solution2(n, k, enemy):\n",
    "    def check(n, enemy):\n",
    "        for idx in enemy:\n",
    "            if sum(enemy)==0:\n",
    "                return enemy\n",
    "            elif n < sum(enemy[:idx]):\n",
    "                max_value_index = enemy[:idx+1].index(max(enemy[:idx+1]))\n",
    "                enemy[max_value_index] = 0\n",
    "                print(enemy)\n",
    "                return enemy\n",
    "\n",
    "\n",
    "    for i in range(k):\n",
    "        enemy = check(n, enemy)\n",
    "        print(i, enemy)\n",
    "        # if sum(enemy) <= n:\n",
    "        #     return len(enemy)\n",
    "    \n",
    "    return enemy"
   ]
  },
  {
   "cell_type": "code",
   "execution_count": 163,
   "metadata": {},
   "outputs": [
    {
     "name": "stdout",
     "output_type": "stream",
     "text": [
      "[4, 2, 4, 0, 3, 3, 1]\n",
      "0 [4, 2, 4, 0, 3, 3, 1]\n",
      "[0, 2, 4, 0, 3, 3, 1]\n",
      "1 [0, 2, 4, 0, 3, 3, 1]\n",
      "2 None\n",
      "None\n"
     ]
    }
   ],
   "source": [
    "n0=7\n",
    "k0=3\n",
    "enemy0 = [4, 2, 4, 5, 3, 3, 1]#\t5\n",
    "\n",
    "n1=2\n",
    "k1=4\n",
    "enemy1 =[3, 3, 3, 3]# 4 \n",
    "\n",
    "n2=10\n",
    "k2=4\n",
    "enemy2 = [4, 2, 7, 5, 3, 3, 8, 6]# 7\n",
    "\n",
    "print(solution2(n0, k0, enemy0))"
   ]
  },
  {
   "cell_type": "code",
   "execution_count": 147,
   "metadata": {},
   "outputs": [],
   "source": [
    "def solution(n, k, enemy):\n",
    "    def check(n, enemy):\n",
    "        for idx, val in enumerate(enemy):\n",
    "            n -= val\n",
    "            if n <= 0:\n",
    "                return(idx)\n",
    "\n",
    "    for i in range(k):\n",
    "        max_num = check(n, enemy)\n",
    "        max_value_index = enemy[:max_num+1].index(max(enemy[:max_num+1]))\n",
    "        enemy[max_value_index] = 0\n",
    "        if sum(enemy) <= n:\n",
    "            return len(enemy)\n",
    "\n",
    "    answer = check(n, enemy)\n",
    "    return answer\n"
   ]
  },
  {
   "cell_type": "code",
   "execution_count": 149,
   "metadata": {},
   "outputs": [
    {
     "name": "stdout",
     "output_type": "stream",
     "text": [
      "[4, 2, 0, 5, 3, 3, 8, 6]\n",
      "[4, 2, 0, 0, 3, 3, 8, 6]\n",
      "[0, 2, 0, 0, 3, 3, 8, 6]\n",
      "[0, 2, 0, 0, 3, 3, 0, 6]\n",
      "7\n"
     ]
    }
   ],
   "source": [
    "n0=7\n",
    "k0=3\n",
    "enemy0 = [4, 2, 4, 5, 3, 3, 1]#\t5\n",
    "n1=2\n",
    "k1=4\n",
    "enemy1 =[3, 3, 3, 3]# 4 \n",
    "\n",
    "n2=10\n",
    "k2=4\n",
    "enemy2 = [4, 2, 7, 5, 3, 3, 8, 6]# 7\n",
    "\n",
    "n = n0\n",
    "k = k0\n",
    "enemy = enemy0\n",
    "\n",
    "print(solution(n2, k2, enemy2))"
   ]
  },
  {
   "cell_type": "code",
   "execution_count": 33,
   "metadata": {},
   "outputs": [
    {
     "name": "stdout",
     "output_type": "stream",
     "text": [
      "[0, 2, 0, 0, 3, 3, 1]\n",
      "5\n"
     ]
    }
   ],
   "source": [
    "n0=7\n",
    "k0=3\n",
    "enemy0 = [4, 2, 4, 5, 3, 3, 1]#\t5\n",
    "n1=2\n",
    "k1=4\n",
    "enemy1 =[3, 3, 3, 3]# 4 \n",
    "\n",
    "n = n0\n",
    "k = k0\n",
    "enemy = enemy0\n",
    "\n",
    "def check(n, enemy):\n",
    "    for idx, val in enumerate(enemy):\n",
    "        n -= val\n",
    "        if n < 0:\n",
    "            return(idx)\n",
    "\n",
    "for i in range(k):\n",
    "    max_num = check(n, enemy)\n",
    "    if max_num == None:\n",
    "        # return enemy.count(0)\n",
    "        break        \n",
    "    else:\n",
    "        max_value_index = enemy[:max_num+1].index(max(enemy[:max_num+1]))\n",
    "        enemy[max_value_index] = 0\n",
    "print(enemy)\n",
    "\n",
    "answer = check(n, enemy)\n",
    "print(answer)"
   ]
  },
  {
   "cell_type": "code",
   "execution_count": 35,
   "metadata": {},
   "outputs": [
    {
     "name": "stdout",
     "output_type": "stream",
     "text": [
      "None\n"
     ]
    }
   ],
   "source": [
    "n0=7\n",
    "k0=3\n",
    "enemy0 = [4, 2, 4, 5, 3, 3, 1]#\t5\n",
    "\n",
    "n1=2\n",
    "k1=4\n",
    "enemy1 =[3, 3, 3, 3]# 4 \n",
    "\n",
    "n2=10\n",
    "k2=4\n",
    "enemy2 = [4, 2, 7, 5, 3, 3, 8, 6]# 7\n",
    "\n",
    "print(solution(n1, k1, enemy1))\n",
    "# print(solution(n0, k0, enemy0))"
   ]
  },
  {
   "attachments": {},
   "cell_type": "markdown",
   "metadata": {},
   "source": [
    "###\n",
    "가장 쉬운 방법\n",
    "k값만큼 enemy의 가장 높은 숫자 0으로 바꾼다\n",
    "0이 아닌 수를 n만큼 지워나간다 안됨\n",
    "\n",
    "2. \n",
    "- 먼저 n으로 지워나갔을 때 몇 번쨰까지 갈 수 있는지 확인\n",
    "- 그 번째 중에서 가장 큰 수를 지우고 다시 계산\n",
    "- k번 만큼 반복"
   ]
  },
  {
   "cell_type": "code",
   "execution_count": 58,
   "metadata": {},
   "outputs": [
    {
     "name": "stdout",
     "output_type": "stream",
     "text": [
      "[4, 2, 4, 5, 3, 3, 1]\n",
      "0\n",
      "[0, 2, 4, 5, 3, 3, 1]\n",
      "2\n",
      "[0, 2, 0, 5, 3, 3, 1]\n",
      "3\n",
      "[0, 2, 0, 0, 3, 3, 1]\n"
     ]
    },
    {
     "data": {
      "text/plain": [
       "5"
      ]
     },
     "execution_count": 58,
     "metadata": {},
     "output_type": "execute_result"
    }
   ],
   "source": [
    "n0=7\n",
    "k0=3\n",
    "enemy0 = [4, 2, 4, 5, 3, 3, 1]#\t5\n",
    "\n",
    "len(enemy0)\n",
    "\n",
    "new_enemy = [x for x in enemy0]\n",
    "\n",
    "now_n=n0\n",
    "\n",
    "def check(n, enemy):\n",
    "    for idx, val in enumerate(enemy):\n",
    "        n -= val\n",
    "        # print(n)\n",
    "        if n < 0:\n",
    "            return(idx)\n",
    "\n",
    "print(enemy0)\n",
    "\n",
    "for i in range(k0):\n",
    "    max_num = check(n=n0, enemy=enemy0)\n",
    "    max_value_index = enemy0[:max_num].index(max(enemy0[:max_num]))\n",
    "    print(max_value_index)\n",
    "    enemy0[max_value_index] = 0\n",
    "    print(enemy0)\n",
    "\n",
    "check(n=n0, enemy=enemy0)"
   ]
  },
  {
   "cell_type": "code",
   "execution_count": 200,
   "metadata": {},
   "outputs": [
    {
     "name": "stdout",
     "output_type": "stream",
     "text": [
      "0\n",
      "2\n",
      "4\n",
      "0\n",
      "3\n",
      "3\n",
      "1\n"
     ]
    }
   ],
   "source": [
    "for i in enemy:\n",
    "    print(i)"
   ]
  },
  {
   "cell_type": "code",
   "execution_count": 261,
   "metadata": {},
   "outputs": [
    {
     "name": "stdout",
     "output_type": "stream",
     "text": [
      "[3, 3, 3, 3]\n",
      "0 2 3\n",
      "[0, 3, 3, 3]\n",
      "0 2 0\n",
      "1 2 3\n",
      "[0, 0, 3, 3]\n",
      "0 2 0\n",
      "1 2 0\n",
      "2 2 3\n",
      "[0, 0, 0, 3]\n",
      "0 2 0\n",
      "1 2 0\n",
      "2 2 0\n",
      "3 2 3\n",
      "4\n",
      "[4, 2, 7, 5, 3, 3, 8, 6]\n",
      "0 10 4\n",
      "1 10 6\n",
      "2 10 13\n",
      "[4, 2, 0, 5, 3, 3, 8, 6]\n",
      "0 10 4\n",
      "1 10 6\n",
      "2 10 6\n",
      "3 10 11\n",
      "[4, 2, 0, 0, 3, 3, 8, 6]\n",
      "0 10 4\n",
      "1 10 6\n",
      "2 10 6\n",
      "3 10 6\n",
      "4 10 9\n",
      "5 10 12\n",
      "[0, 2, 0, 0, 3, 3, 8, 6]\n",
      "0 10 0\n",
      "1 10 2\n",
      "2 10 2\n",
      "3 10 2\n",
      "4 10 5\n",
      "5 10 8\n",
      "6 10 16\n",
      "[0, 2, 0, 0, 3, 3, 0, 6]\n",
      "0 10 0\n",
      "1 10 2\n",
      "2 10 2\n",
      "3 10 2\n",
      "4 10 5\n",
      "5 10 8\n",
      "6 10 8\n",
      "7 10 14\n",
      "7\n",
      "7\n"
     ]
    }
   ],
   "source": [
    "n0=7\n",
    "k0=3\n",
    "enemy0 = [4, 2, 4, 5, 3, 3, 1]#\t5\n",
    "\n",
    "n1=2\n",
    "k1=4\n",
    "enemy1 =[3, 3, 3, 3]# 4 \n",
    "\n",
    "n2=10\n",
    "k2=4\n",
    "enemy2 = [4, 2, 7, 5, 3, 3, 8, 6]# 7\n",
    "\n",
    "# print(solution3(n0, k0, enemy0))\n",
    "print(solution3(n1, k1, enemy1))\n",
    "print(solution3(n2, k2, enemy2))"
   ]
  },
  {
   "cell_type": "code",
   "execution_count": 251,
   "metadata": {},
   "outputs": [],
   "source": [
    "# 제출1 런타임 에러, 시간 초과\n",
    "def solution(n, k, enemy):\n",
    "    def check(n, enemy):\n",
    "        for idx, val in enumerate(enemy):\n",
    "            n -= val\n",
    "            if n < 0:\n",
    "                return(idx)\n",
    "\n",
    "    for i in range(k):\n",
    "        max_num = check(n, enemy)\n",
    "        max_value_index = enemy[:max_num+1].index(max(enemy[:max_num+1]))\n",
    "        enemy[max_value_index] = 0\n",
    "    answer = check(n, enemy)\n",
    "    \n",
    "    if answer!=None:\n",
    "        return answer\n",
    "    else:\n",
    "        return len(enemy)"
   ]
  },
  {
   "cell_type": "code",
   "execution_count": 139,
   "metadata": {},
   "outputs": [],
   "source": [
    "## 2-9일 2번째 시도 정확도 65 (시간초과 및 런타임 에러)\n",
    "def solution2(n, k, enemy):\n",
    "    def check(n, enemy):\n",
    "        for idx, val in enumerate(enemy):\n",
    "            n -= val\n",
    "            print(n)\n",
    "            if sum(enemy)==0:\n",
    "                return enemy\n",
    "            elif n < 0:\n",
    "                max_value_index = enemy[:idx+1].index(max(enemy[:idx+1]))\n",
    "                enemy[max_value_index] = 0\n",
    "                return enemy\n",
    "\n",
    "\n",
    "    for i in range(k):\n",
    "        enemy = check(n, enemy)\n",
    "        if sum(enemy) <= n:\n",
    "            return len(enemy)\n",
    "    \n",
    "    return enemy"
   ]
  },
  {
   "cell_type": "code",
   "execution_count": null,
   "metadata": {},
   "outputs": [],
   "source": [
    "## 2-9일 3번째 시도 정확도 62.5 (시간초과 및 실패)\n",
    "def solution3(n, k, enemy):\n",
    "    def check(n, enemy):\n",
    "        print(enemy)\n",
    "        for idx in range(len(enemy)):\n",
    "            print(idx, n, sum(enemy[:idx+1]))\n",
    "            if n <= sum(enemy[:idx+1]):\n",
    "                return idx\n",
    "        return idx\n",
    "\n",
    "    for i in range(k):\n",
    "        max_num = check(n, enemy)\n",
    "        max_value_index = enemy[:max_num+1].index(max(enemy[:max_num+1]))\n",
    "        enemy[max_value_index] = 0\n",
    "        # print(max_num)\n",
    "        # print(enemy)\n",
    "        if sum(enemy) <= n:\n",
    "            return len(enemy)\n",
    "\n",
    "    answer = check(n, enemy)\n",
    "    print(answer)\n",
    "    return answer"
   ]
  },
  {
   "attachments": {},
   "cell_type": "markdown",
   "metadata": {},
   "source": [
    "출처: 프로그래머스 코딩 테스트 연습, https://school.programmers.co.kr/learn/courses/30/lessons/142085"
   ]
  }
 ],
 "metadata": {
  "kernelspec": {
   "display_name": "Python 3",
   "language": "python",
   "name": "python3"
  },
  "language_info": {
   "codemirror_mode": {
    "name": "ipython",
    "version": 3
   },
   "file_extension": ".py",
   "mimetype": "text/x-python",
   "name": "python",
   "nbconvert_exporter": "python",
   "pygments_lexer": "ipython3",
   "version": "3.10.10"
  },
  "orig_nbformat": 4,
  "vscode": {
   "interpreter": {
    "hash": "d86e5f3e65a370f4f0c7c6c157476db0f2576129ce19971a1015c727da11cca3"
   }
  }
 },
 "nbformat": 4,
 "nbformat_minor": 2
}
