{
 "cells": [
  {
   "cell_type": "code",
   "execution_count": 85,
   "metadata": {},
   "outputs": [],
   "source": [
    "def check(input):\n",
    "    if input[:3] == 'aya':        \n",
    "        return input.replace('aya','')\n",
    "    elif input[:2] == 'ye':\n",
    "        return input.replace('ye','')\n",
    "    elif input[:3] == 'woo':\n",
    "        return input.replace('woo','')\n",
    "    elif input[:2] == 'ma':\n",
    "        return input.replace('ma','')\n",
    "    elif input == '':\n",
    "        return True\n",
    "    else:\n",
    "        return False"
   ]
  },
  {
   "cell_type": "code",
   "execution_count": 99,
   "metadata": {},
   "outputs": [
    {
     "name": "stdout",
     "output_type": "stream",
     "text": [
      "2\n"
     ]
    }
   ],
   "source": [
    "input1 = [\"aya\", \"yee\", \"u\", \"mama\", \"wyeoo\"]\n",
    "cnt = 0 \n",
    "\n",
    "for i in range(len(input1)):\n",
    "    input = input1[i]\n",
    "    while type(input) != bool:\n",
    "        input = check(input)\n",
    "    if input == True:\n",
    "        cnt+=1\n",
    "\n",
    "print(cnt)"
   ]
  },
  {
   "cell_type": "code",
   "execution_count": null,
   "metadata": {},
   "outputs": [],
   "source": [
    "\n"
   ]
  }
 ],
 "metadata": {
  "kernelspec": {
   "display_name": "Python 3",
   "language": "python",
   "name": "python3"
  },
  "language_info": {
   "codemirror_mode": {
    "name": "ipython",
    "version": 3
   },
   "file_extension": ".py",
   "mimetype": "text/x-python",
   "name": "python",
   "nbconvert_exporter": "python",
   "pygments_lexer": "ipython3",
   "version": "3.10.9"
  },
  "orig_nbformat": 4,
  "vscode": {
   "interpreter": {
    "hash": "d86e5f3e65a370f4f0c7c6c157476db0f2576129ce19971a1015c727da11cca3"
   }
  }
 },
 "nbformat": 4,
 "nbformat_minor": 2
}
