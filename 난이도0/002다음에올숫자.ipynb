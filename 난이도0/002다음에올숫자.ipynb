{
 "cells": [
  {
   "cell_type": "code",
   "execution_count": null,
   "metadata": {},
   "outputs": [],
   "source": []
  },
  {
   "cell_type": "code",
   "execution_count": 12,
   "metadata": {},
   "outputs": [],
   "source": [
    "comon1 = [1, 2, 3, 4]\n",
    "comon = [2, 4, 8, 16]\n",
    "def solution(common):\n",
    "    answer=0\n",
    "    \n",
    "    res1 = common[-2] - common[-3]\n",
    "    res2 = common[-1] - common[-2]\n",
    "\n",
    "    if res1 == res2:\n",
    "        answer = common[-1] + res1\n",
    "    else:\n",
    "        answer = common[-1] + 2*res2\n",
    "    \n",
    "    return answer\n"
   ]
  },
  {
   "cell_type": "code",
   "execution_count": 13,
   "metadata": {},
   "outputs": [
    {
     "data": {
      "text/plain": [
       "32"
      ]
     },
     "execution_count": 13,
     "metadata": {},
     "output_type": "execute_result"
    }
   ],
   "source": [
    "solution(comon)"
   ]
  }
 ],
 "metadata": {
  "kernelspec": {
   "display_name": "Python 3",
   "language": "python",
   "name": "python3"
  },
  "language_info": {
   "codemirror_mode": {
    "name": "ipython",
    "version": 3
   },
   "file_extension": ".py",
   "mimetype": "text/x-python",
   "name": "python",
   "nbconvert_exporter": "python",
   "pygments_lexer": "ipython3",
   "version": "3.10.9"
  },
  "orig_nbformat": 4,
  "vscode": {
   "interpreter": {
    "hash": "d86e5f3e65a370f4f0c7c6c157476db0f2576129ce19971a1015c727da11cca3"
   }
  }
 },
 "nbformat": 4,
 "nbformat_minor": 2
}
